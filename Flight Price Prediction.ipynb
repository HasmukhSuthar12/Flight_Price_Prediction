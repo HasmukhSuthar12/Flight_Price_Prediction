{
 "cells": [
  {
   "cell_type": "markdown",
   "id": "9AiUUaPsUYFr",
   "metadata": {
    "id": "9AiUUaPsUYFr"
   },
   "source": [
    "# **Import Dependencies**"
   ]
  },
  {
   "cell_type": "code",
   "execution_count": 1,
   "id": "dc232b92",
   "metadata": {
    "executionInfo": {
     "elapsed": 617,
     "status": "ok",
     "timestamp": 1644321383469,
     "user": {
      "displayName": "Hitesh_Suthar_ 101_34",
      "photoUrl": "https://lh3.googleusercontent.com/a/default-user=s64",
      "userId": "01229137545188679455"
     },
     "user_tz": -330
    },
    "id": "dc232b92"
   },
   "outputs": [],
   "source": [
    "import pandas as pd\n",
    "import numpy as np\n",
    "import matplotlib.pyplot as plt\n",
    "import seaborn as sns\n",
    "%matplotlib inline\n",
    "import warnings\n",
    "warnings.filterwarnings('ignore')"
   ]
  },
  {
   "cell_type": "code",
   "execution_count": 2,
   "id": "a5fcf6a3",
   "metadata": {
    "colab": {
     "base_uri": "https://localhost:8080/",
     "height": 424
    },
    "executionInfo": {
     "elapsed": 2688,
     "status": "ok",
     "timestamp": 1644321386779,
     "user": {
      "displayName": "Hitesh_Suthar_ 101_34",
      "photoUrl": "https://lh3.googleusercontent.com/a/default-user=s64",
      "userId": "01229137545188679455"
     },
     "user_tz": -330
    },
    "id": "a5fcf6a3",
    "outputId": "0ce3e30d-07e7-4366-8509-ea1643a967f5"
   },
   "outputs": [
    {
     "data": {
      "text/html": [
       "<div>\n",
       "<style scoped>\n",
       "    .dataframe tbody tr th:only-of-type {\n",
       "        vertical-align: middle;\n",
       "    }\n",
       "\n",
       "    .dataframe tbody tr th {\n",
       "        vertical-align: top;\n",
       "    }\n",
       "\n",
       "    .dataframe thead th {\n",
       "        text-align: right;\n",
       "    }\n",
       "</style>\n",
       "<table border=\"1\" class=\"dataframe\">\n",
       "  <thead>\n",
       "    <tr style=\"text-align: right;\">\n",
       "      <th></th>\n",
       "      <th>Airline</th>\n",
       "      <th>Date_of_Journey</th>\n",
       "      <th>Source</th>\n",
       "      <th>Destination</th>\n",
       "      <th>Route</th>\n",
       "      <th>Dep_Time</th>\n",
       "      <th>Arrival_Time</th>\n",
       "      <th>Duration</th>\n",
       "      <th>Total_Stops</th>\n",
       "      <th>Additional_Info</th>\n",
       "      <th>Price</th>\n",
       "    </tr>\n",
       "  </thead>\n",
       "  <tbody>\n",
       "    <tr>\n",
       "      <th>0</th>\n",
       "      <td>IndiGo</td>\n",
       "      <td>2019-03-24</td>\n",
       "      <td>Banglore</td>\n",
       "      <td>New Delhi</td>\n",
       "      <td>BLR → DEL</td>\n",
       "      <td>22:20</td>\n",
       "      <td>01:10 22 Mar</td>\n",
       "      <td>2h 50m</td>\n",
       "      <td>non-stop</td>\n",
       "      <td>No info</td>\n",
       "      <td>3897</td>\n",
       "    </tr>\n",
       "    <tr>\n",
       "      <th>1</th>\n",
       "      <td>Air India</td>\n",
       "      <td>2019-01-05</td>\n",
       "      <td>Kolkata</td>\n",
       "      <td>Banglore</td>\n",
       "      <td>CCU → IXR → BBI → BLR</td>\n",
       "      <td>05:50</td>\n",
       "      <td>13:15</td>\n",
       "      <td>7h 25m</td>\n",
       "      <td>2 stops</td>\n",
       "      <td>No info</td>\n",
       "      <td>7662</td>\n",
       "    </tr>\n",
       "    <tr>\n",
       "      <th>2</th>\n",
       "      <td>Jet Airways</td>\n",
       "      <td>2019-09-06</td>\n",
       "      <td>Delhi</td>\n",
       "      <td>Cochin</td>\n",
       "      <td>DEL → LKO → BOM → COK</td>\n",
       "      <td>09:25</td>\n",
       "      <td>04:25 10 Jun</td>\n",
       "      <td>19h</td>\n",
       "      <td>2 stops</td>\n",
       "      <td>No info</td>\n",
       "      <td>13882</td>\n",
       "    </tr>\n",
       "    <tr>\n",
       "      <th>3</th>\n",
       "      <td>IndiGo</td>\n",
       "      <td>2019-12-05</td>\n",
       "      <td>Kolkata</td>\n",
       "      <td>Banglore</td>\n",
       "      <td>CCU → NAG → BLR</td>\n",
       "      <td>18:05</td>\n",
       "      <td>23:30</td>\n",
       "      <td>5h 25m</td>\n",
       "      <td>1 stop</td>\n",
       "      <td>No info</td>\n",
       "      <td>6218</td>\n",
       "    </tr>\n",
       "    <tr>\n",
       "      <th>4</th>\n",
       "      <td>IndiGo</td>\n",
       "      <td>2019-01-03</td>\n",
       "      <td>Banglore</td>\n",
       "      <td>New Delhi</td>\n",
       "      <td>BLR → NAG → DEL</td>\n",
       "      <td>16:50</td>\n",
       "      <td>21:35</td>\n",
       "      <td>4h 45m</td>\n",
       "      <td>1 stop</td>\n",
       "      <td>No info</td>\n",
       "      <td>13302</td>\n",
       "    </tr>\n",
       "  </tbody>\n",
       "</table>\n",
       "</div>"
      ],
      "text/plain": [
       "       Airline Date_of_Journey    Source Destination                  Route  \\\n",
       "0       IndiGo      2019-03-24  Banglore   New Delhi              BLR → DEL   \n",
       "1    Air India      2019-01-05   Kolkata    Banglore  CCU → IXR → BBI → BLR   \n",
       "2  Jet Airways      2019-09-06     Delhi      Cochin  DEL → LKO → BOM → COK   \n",
       "3       IndiGo      2019-12-05   Kolkata    Banglore        CCU → NAG → BLR   \n",
       "4       IndiGo      2019-01-03  Banglore   New Delhi        BLR → NAG → DEL   \n",
       "\n",
       "  Dep_Time  Arrival_Time Duration Total_Stops Additional_Info  Price  \n",
       "0    22:20  01:10 22 Mar   2h 50m    non-stop         No info   3897  \n",
       "1    05:50         13:15   7h 25m     2 stops         No info   7662  \n",
       "2    09:25  04:25 10 Jun      19h     2 stops         No info  13882  \n",
       "3    18:05         23:30   5h 25m      1 stop         No info   6218  \n",
       "4    16:50         21:35   4h 45m      1 stop         No info  13302  "
      ]
     },
     "execution_count": 2,
     "metadata": {},
     "output_type": "execute_result"
    }
   ],
   "source": [
    "# Import Dataset Using Pandas\n",
    "df = pd.read_excel('data.xlsx',parse_dates=['Date_of_Journey'])\n",
    "df.head()"
   ]
  },
  {
   "cell_type": "markdown",
   "id": "EfK0sj7RV1i3",
   "metadata": {
    "id": "EfK0sj7RV1i3"
   },
   "source": [
    "# Basic Information of Our Dataset"
   ]
  },
  {
   "cell_type": "code",
   "execution_count": 3,
   "id": "20588f2d",
   "metadata": {
    "colab": {
     "base_uri": "https://localhost:8080/"
    },
    "executionInfo": {
     "elapsed": 161,
     "status": "ok",
     "timestamp": 1644321386780,
     "user": {
      "displayName": "Hitesh_Suthar_ 101_34",
      "photoUrl": "https://lh3.googleusercontent.com/a/default-user=s64",
      "userId": "01229137545188679455"
     },
     "user_tz": -330
    },
    "id": "20588f2d",
    "outputId": "1d3c0e77-24c2-4ea6-9cbb-8d87ec82a22d"
   },
   "outputs": [
    {
     "data": {
      "text/plain": [
       "(10683, 11)"
      ]
     },
     "execution_count": 3,
     "metadata": {},
     "output_type": "execute_result"
    }
   ],
   "source": [
    "# Check the Number of Rows and Columns of data\n",
    "df.shape"
   ]
  },
  {
   "cell_type": "code",
   "execution_count": 4,
   "id": "fb32adca",
   "metadata": {
    "colab": {
     "base_uri": "https://localhost:8080/"
    },
    "executionInfo": {
     "elapsed": 149,
     "status": "ok",
     "timestamp": 1644321386780,
     "user": {
      "displayName": "Hitesh_Suthar_ 101_34",
      "photoUrl": "https://lh3.googleusercontent.com/a/default-user=s64",
      "userId": "01229137545188679455"
     },
     "user_tz": -330
    },
    "id": "fb32adca",
    "outputId": "6bfcd82b-1ae9-4952-8068-b022d55e8d2e"
   },
   "outputs": [
    {
     "name": "stdout",
     "output_type": "stream",
     "text": [
      "<class 'pandas.core.frame.DataFrame'>\n",
      "RangeIndex: 10683 entries, 0 to 10682\n",
      "Data columns (total 11 columns):\n",
      " #   Column           Non-Null Count  Dtype         \n",
      "---  ------           --------------  -----         \n",
      " 0   Airline          10683 non-null  object        \n",
      " 1   Date_of_Journey  10683 non-null  datetime64[ns]\n",
      " 2   Source           10683 non-null  object        \n",
      " 3   Destination      10683 non-null  object        \n",
      " 4   Route            10682 non-null  object        \n",
      " 5   Dep_Time         10683 non-null  object        \n",
      " 6   Arrival_Time     10683 non-null  object        \n",
      " 7   Duration         10683 non-null  object        \n",
      " 8   Total_Stops      10682 non-null  object        \n",
      " 9   Additional_Info  10683 non-null  object        \n",
      " 10  Price            10683 non-null  int64         \n",
      "dtypes: datetime64[ns](1), int64(1), object(9)\n",
      "memory usage: 918.2+ KB\n"
     ]
    }
   ],
   "source": [
    "# Check the basic info of the data\n",
    "df.info()"
   ]
  },
  {
   "cell_type": "code",
   "execution_count": 5,
   "id": "39ba351b",
   "metadata": {
    "colab": {
     "base_uri": "https://localhost:8080/",
     "height": 300
    },
    "executionInfo": {
     "elapsed": 138,
     "status": "ok",
     "timestamp": 1644321386781,
     "user": {
      "displayName": "Hitesh_Suthar_ 101_34",
      "photoUrl": "https://lh3.googleusercontent.com/a/default-user=s64",
      "userId": "01229137545188679455"
     },
     "user_tz": -330
    },
    "id": "39ba351b",
    "outputId": "0b63f366-5185-4c61-94bf-5b15b235cd9b"
   },
   "outputs": [
    {
     "data": {
      "text/html": [
       "<div>\n",
       "<style scoped>\n",
       "    .dataframe tbody tr th:only-of-type {\n",
       "        vertical-align: middle;\n",
       "    }\n",
       "\n",
       "    .dataframe tbody tr th {\n",
       "        vertical-align: top;\n",
       "    }\n",
       "\n",
       "    .dataframe thead th {\n",
       "        text-align: right;\n",
       "    }\n",
       "</style>\n",
       "<table border=\"1\" class=\"dataframe\">\n",
       "  <thead>\n",
       "    <tr style=\"text-align: right;\">\n",
       "      <th></th>\n",
       "      <th>Price</th>\n",
       "    </tr>\n",
       "  </thead>\n",
       "  <tbody>\n",
       "    <tr>\n",
       "      <th>count</th>\n",
       "      <td>10683.000000</td>\n",
       "    </tr>\n",
       "    <tr>\n",
       "      <th>mean</th>\n",
       "      <td>9087.064121</td>\n",
       "    </tr>\n",
       "    <tr>\n",
       "      <th>std</th>\n",
       "      <td>4611.359167</td>\n",
       "    </tr>\n",
       "    <tr>\n",
       "      <th>min</th>\n",
       "      <td>1759.000000</td>\n",
       "    </tr>\n",
       "    <tr>\n",
       "      <th>25%</th>\n",
       "      <td>5277.000000</td>\n",
       "    </tr>\n",
       "    <tr>\n",
       "      <th>50%</th>\n",
       "      <td>8372.000000</td>\n",
       "    </tr>\n",
       "    <tr>\n",
       "      <th>75%</th>\n",
       "      <td>12373.000000</td>\n",
       "    </tr>\n",
       "    <tr>\n",
       "      <th>max</th>\n",
       "      <td>79512.000000</td>\n",
       "    </tr>\n",
       "  </tbody>\n",
       "</table>\n",
       "</div>"
      ],
      "text/plain": [
       "              Price\n",
       "count  10683.000000\n",
       "mean    9087.064121\n",
       "std     4611.359167\n",
       "min     1759.000000\n",
       "25%     5277.000000\n",
       "50%     8372.000000\n",
       "75%    12373.000000\n",
       "max    79512.000000"
      ]
     },
     "execution_count": 5,
     "metadata": {},
     "output_type": "execute_result"
    }
   ],
   "source": [
    "# Check the statistics info of the data\n",
    "df.describe()"
   ]
  },
  {
   "cell_type": "markdown",
   "id": "LXybvzjMV9Lj",
   "metadata": {
    "id": "LXybvzjMV9Lj"
   },
   "source": [
    "# Data Cleaning"
   ]
  },
  {
   "cell_type": "code",
   "execution_count": 6,
   "id": "29aaaee2",
   "metadata": {
    "colab": {
     "base_uri": "https://localhost:8080/"
    },
    "executionInfo": {
     "elapsed": 133,
     "status": "ok",
     "timestamp": 1644321386781,
     "user": {
      "displayName": "Hitesh_Suthar_ 101_34",
      "photoUrl": "https://lh3.googleusercontent.com/a/default-user=s64",
      "userId": "01229137545188679455"
     },
     "user_tz": -330
    },
    "id": "29aaaee2",
    "outputId": "f6722adf-b1d0-4e27-fc10-e9029189fbdc"
   },
   "outputs": [
    {
     "data": {
      "text/plain": [
       "Airline            0\n",
       "Date_of_Journey    0\n",
       "Source             0\n",
       "Destination        0\n",
       "Route              1\n",
       "Dep_Time           0\n",
       "Arrival_Time       0\n",
       "Duration           0\n",
       "Total_Stops        1\n",
       "Additional_Info    0\n",
       "Price              0\n",
       "dtype: int64"
      ]
     },
     "execution_count": 6,
     "metadata": {},
     "output_type": "execute_result"
    }
   ],
   "source": [
    "# Checking for Null Values\n",
    "df.isnull().sum()"
   ]
  },
  {
   "cell_type": "code",
   "execution_count": 7,
   "id": "a333c5e2",
   "metadata": {
    "executionInfo": {
     "elapsed": 124,
     "status": "ok",
     "timestamp": 1644321386782,
     "user": {
      "displayName": "Hitesh_Suthar_ 101_34",
      "photoUrl": "https://lh3.googleusercontent.com/a/default-user=s64",
      "userId": "01229137545188679455"
     },
     "user_tz": -330
    },
    "id": "a333c5e2"
   },
   "outputs": [],
   "source": [
    "# Drop Null values Because there is a only 2 Null Values\n",
    "df.dropna(inplace=True)"
   ]
  },
  {
   "cell_type": "code",
   "execution_count": 8,
   "id": "e5aad5ef",
   "metadata": {
    "colab": {
     "base_uri": "https://localhost:8080/"
    },
    "executionInfo": {
     "elapsed": 122,
     "status": "ok",
     "timestamp": 1644321386782,
     "user": {
      "displayName": "Hitesh_Suthar_ 101_34",
      "photoUrl": "https://lh3.googleusercontent.com/a/default-user=s64",
      "userId": "01229137545188679455"
     },
     "user_tz": -330
    },
    "id": "e5aad5ef",
    "outputId": "cbb2f90c-65d9-4341-a5fb-9309eac0d1f9"
   },
   "outputs": [
    {
     "data": {
      "text/plain": [
       "Airline            0\n",
       "Date_of_Journey    0\n",
       "Source             0\n",
       "Destination        0\n",
       "Route              0\n",
       "Dep_Time           0\n",
       "Arrival_Time       0\n",
       "Duration           0\n",
       "Total_Stops        0\n",
       "Additional_Info    0\n",
       "Price              0\n",
       "dtype: int64"
      ]
     },
     "execution_count": 8,
     "metadata": {},
     "output_type": "execute_result"
    }
   ],
   "source": [
    "# Checking for Null Values\n",
    "df.isnull().sum()"
   ]
  },
  {
   "cell_type": "code",
   "execution_count": 9,
   "id": "a323452d",
   "metadata": {
    "colab": {
     "base_uri": "https://localhost:8080/"
    },
    "executionInfo": {
     "elapsed": 116,
     "status": "ok",
     "timestamp": 1644321386783,
     "user": {
      "displayName": "Hitesh_Suthar_ 101_34",
      "photoUrl": "https://lh3.googleusercontent.com/a/default-user=s64",
      "userId": "01229137545188679455"
     },
     "user_tz": -330
    },
    "id": "a323452d",
    "outputId": "e460d610-c421-4eed-b9a6-98581587c351"
   },
   "outputs": [
    {
     "data": {
      "text/plain": [
       "220"
      ]
     },
     "execution_count": 9,
     "metadata": {},
     "output_type": "execute_result"
    }
   ],
   "source": [
    "# Checking for Duplicated Values\n",
    "df.duplicated().sum()"
   ]
  },
  {
   "cell_type": "code",
   "execution_count": 10,
   "id": "b337ae4a",
   "metadata": {
    "executionInfo": {
     "elapsed": 106,
     "status": "ok",
     "timestamp": 1644321386783,
     "user": {
      "displayName": "Hitesh_Suthar_ 101_34",
      "photoUrl": "https://lh3.googleusercontent.com/a/default-user=s64",
      "userId": "01229137545188679455"
     },
     "user_tz": -330
    },
    "id": "b337ae4a"
   },
   "outputs": [],
   "source": [
    "# Drop Duplicated Values\n",
    "df.drop_duplicates(keep='first',inplace=True)"
   ]
  },
  {
   "cell_type": "code",
   "execution_count": 11,
   "id": "4d57cf2f",
   "metadata": {
    "colab": {
     "base_uri": "https://localhost:8080/"
    },
    "executionInfo": {
     "elapsed": 106,
     "status": "ok",
     "timestamp": 1644321386784,
     "user": {
      "displayName": "Hitesh_Suthar_ 101_34",
      "photoUrl": "https://lh3.googleusercontent.com/a/default-user=s64",
      "userId": "01229137545188679455"
     },
     "user_tz": -330
    },
    "id": "4d57cf2f",
    "outputId": "92821fe2-8943-448f-af57-7cb64acf6001"
   },
   "outputs": [
    {
     "data": {
      "text/plain": [
       "0"
      ]
     },
     "execution_count": 11,
     "metadata": {},
     "output_type": "execute_result"
    }
   ],
   "source": [
    "# After Removed Duplicated\n",
    "df.duplicated().sum()"
   ]
  },
  {
   "cell_type": "code",
   "execution_count": 12,
   "id": "a3df9729",
   "metadata": {
    "colab": {
     "base_uri": "https://localhost:8080/",
     "height": 208
    },
    "executionInfo": {
     "elapsed": 98,
     "status": "ok",
     "timestamp": 1644321386784,
     "user": {
      "displayName": "Hitesh_Suthar_ 101_34",
      "photoUrl": "https://lh3.googleusercontent.com/a/default-user=s64",
      "userId": "01229137545188679455"
     },
     "user_tz": -330
    },
    "id": "a3df9729",
    "outputId": "47b940d4-baa6-4b6f-ed78-6f62212cde47"
   },
   "outputs": [
    {
     "data": {
      "text/html": [
       "<div>\n",
       "<style scoped>\n",
       "    .dataframe tbody tr th:only-of-type {\n",
       "        vertical-align: middle;\n",
       "    }\n",
       "\n",
       "    .dataframe tbody tr th {\n",
       "        vertical-align: top;\n",
       "    }\n",
       "\n",
       "    .dataframe thead th {\n",
       "        text-align: right;\n",
       "    }\n",
       "</style>\n",
       "<table border=\"1\" class=\"dataframe\">\n",
       "  <thead>\n",
       "    <tr style=\"text-align: right;\">\n",
       "      <th></th>\n",
       "      <th>Airline</th>\n",
       "      <th>Date_of_Journey</th>\n",
       "      <th>Source</th>\n",
       "      <th>Destination</th>\n",
       "      <th>Route</th>\n",
       "      <th>Dep_Time</th>\n",
       "      <th>Arrival_Time</th>\n",
       "      <th>Duration</th>\n",
       "      <th>Total_Stops</th>\n",
       "      <th>Additional_Info</th>\n",
       "      <th>Price</th>\n",
       "    </tr>\n",
       "  </thead>\n",
       "  <tbody>\n",
       "    <tr>\n",
       "      <th>0</th>\n",
       "      <td>IndiGo</td>\n",
       "      <td>2019-03-24</td>\n",
       "      <td>Banglore</td>\n",
       "      <td>New Delhi</td>\n",
       "      <td>BLR → DEL</td>\n",
       "      <td>22:20</td>\n",
       "      <td>01:10 22 Mar</td>\n",
       "      <td>2h 50m</td>\n",
       "      <td>non-stop</td>\n",
       "      <td>No info</td>\n",
       "      <td>3897</td>\n",
       "    </tr>\n",
       "    <tr>\n",
       "      <th>1</th>\n",
       "      <td>Air India</td>\n",
       "      <td>2019-01-05</td>\n",
       "      <td>Kolkata</td>\n",
       "      <td>Banglore</td>\n",
       "      <td>CCU → IXR → BBI → BLR</td>\n",
       "      <td>05:50</td>\n",
       "      <td>13:15</td>\n",
       "      <td>7h 25m</td>\n",
       "      <td>2 stops</td>\n",
       "      <td>No info</td>\n",
       "      <td>7662</td>\n",
       "    </tr>\n",
       "  </tbody>\n",
       "</table>\n",
       "</div>"
      ],
      "text/plain": [
       "     Airline Date_of_Journey    Source Destination                  Route  \\\n",
       "0     IndiGo      2019-03-24  Banglore   New Delhi              BLR → DEL   \n",
       "1  Air India      2019-01-05   Kolkata    Banglore  CCU → IXR → BBI → BLR   \n",
       "\n",
       "  Dep_Time  Arrival_Time Duration Total_Stops Additional_Info  Price  \n",
       "0    22:20  01:10 22 Mar   2h 50m    non-stop         No info   3897  \n",
       "1    05:50         13:15   7h 25m     2 stops         No info   7662  "
      ]
     },
     "execution_count": 12,
     "metadata": {},
     "output_type": "execute_result"
    }
   ],
   "source": [
    "df.head(2)"
   ]
  },
  {
   "cell_type": "markdown",
   "id": "x-25ZRbBWJRf",
   "metadata": {
    "id": "x-25ZRbBWJRf"
   },
   "source": [
    "# **Feature Engineering**"
   ]
  },
  {
   "cell_type": "code",
   "execution_count": 13,
   "id": "69e41fd1",
   "metadata": {
    "executionInfo": {
     "elapsed": 95,
     "status": "ok",
     "timestamp": 1644321386785,
     "user": {
      "displayName": "Hitesh_Suthar_ 101_34",
      "photoUrl": "https://lh3.googleusercontent.com/a/default-user=s64",
      "userId": "01229137545188679455"
     },
     "user_tz": -330
    },
    "id": "69e41fd1"
   },
   "outputs": [],
   "source": [
    "# Derive Two New Columns from Date of Journey (Day, Month)\n",
    "df['journey_day'] = df['Date_of_Journey'].dt.day\n",
    "df['journey_month'] = df['Date_of_Journey'].dt.month"
   ]
  },
  {
   "cell_type": "code",
   "execution_count": 14,
   "id": "fb170def",
   "metadata": {
    "executionInfo": {
     "elapsed": 93,
     "status": "ok",
     "timestamp": 1644321386785,
     "user": {
      "displayName": "Hitesh_Suthar_ 101_34",
      "photoUrl": "https://lh3.googleusercontent.com/a/default-user=s64",
      "userId": "01229137545188679455"
     },
     "user_tz": -330
    },
    "id": "fb170def"
   },
   "outputs": [],
   "source": [
    "# pd.to_datetime(df['Arrival_Time']).dt.time"
   ]
  },
  {
   "cell_type": "code",
   "execution_count": 15,
   "id": "94172669",
   "metadata": {
    "executionInfo": {
     "elapsed": 91,
     "status": "ok",
     "timestamp": 1644321386786,
     "user": {
      "displayName": "Hitesh_Suthar_ 101_34",
      "photoUrl": "https://lh3.googleusercontent.com/a/default-user=s64",
      "userId": "01229137545188679455"
     },
     "user_tz": -330
    },
    "id": "94172669",
    "scrolled": true
   },
   "outputs": [],
   "source": [
    "# Derive New Column of Weekend days\n",
    "df['date_is_weekend'] = np.where(df['Date_of_Journey'].dt.day_name().isin(['Saturday','Sunday']),1,0)"
   ]
  },
  {
   "cell_type": "code",
   "execution_count": 16,
   "id": "0a5f2365",
   "metadata": {
    "executionInfo": {
     "elapsed": 89,
     "status": "ok",
     "timestamp": 1644321386786,
     "user": {
      "displayName": "Hitesh_Suthar_ 101_34",
      "photoUrl": "https://lh3.googleusercontent.com/a/default-user=s64",
      "userId": "01229137545188679455"
     },
     "user_tz": -330
    },
    "id": "0a5f2365"
   },
   "outputs": [],
   "source": [
    "# Derive Two New Columns from Dep_time (Dep_hour,Dep_min)\n",
    "\n",
    "# Method 1:\n",
    "# pd.to_datetime(df['Dep_Time']).dt.hour\n",
    "\n",
    "# Method 2:\n",
    "df['Dep_Hour'] = df['Dep_Time'].apply(lambda x: int(x.split(':')[0]))\n",
    "df['Dep_Min'] = df['Dep_Time'].apply(lambda x: int(x.split(':')[1]))"
   ]
  },
  {
   "cell_type": "code",
   "execution_count": 17,
   "id": "017cdac2",
   "metadata": {
    "executionInfo": {
     "elapsed": 89,
     "status": "ok",
     "timestamp": 1644321386787,
     "user": {
      "displayName": "Hitesh_Suthar_ 101_34",
      "photoUrl": "https://lh3.googleusercontent.com/a/default-user=s64",
      "userId": "01229137545188679455"
     },
     "user_tz": -330
    },
    "id": "017cdac2"
   },
   "outputs": [],
   "source": [
    "# Derive Two New Columns from Arrival_time (Arrival_hour,Arrival_min)\n",
    "\n",
    "# Method 1:\n",
    "# pd.to_datetime(df['Arrival_Time']).dt.hour\n",
    "\n",
    "# Method 2:\n",
    "df['Arrival_Hour'] = df['Arrival_Time'].apply(lambda x: int(x.split(':')[0]))\n",
    "df['Arrival_Min'] = df['Arrival_Time'].apply(lambda x: int(x.split(':')[1].split()[0]))"
   ]
  },
  {
   "cell_type": "code",
   "execution_count": 18,
   "id": "83574062",
   "metadata": {
    "executionInfo": {
     "elapsed": 87,
     "status": "ok",
     "timestamp": 1644321386787,
     "user": {
      "displayName": "Hitesh_Suthar_ 101_34",
      "photoUrl": "https://lh3.googleusercontent.com/a/default-user=s64",
      "userId": "01229137545188679455"
     },
     "user_tz": -330
    },
    "id": "83574062"
   },
   "outputs": [],
   "source": [
    "# PreProcessing of Duration Columns and Derive New Two Columns (Duration_Hours,Duration_Min)\n",
    "df['Duration'].unique()\n",
    "\n",
    "# Function for impute duration values like 0h or 0m\n",
    "def impute_Duration(duration):\n",
    "    x = duration.split()\n",
    "    \n",
    "    if len(x) != 2:\n",
    "        if 'h' in x[0]:\n",
    "            return x[0] + ' 0m'\n",
    "        else:\n",
    "            return '0h ' + x[0]\n",
    "        \n",
    "    else:\n",
    "        return duration\n",
    "\n",
    "# Call Function\n",
    "df['Duration'] = df['Duration'].apply(impute_Duration)"
   ]
  },
  {
   "cell_type": "code",
   "execution_count": 19,
   "id": "de247a11",
   "metadata": {
    "executionInfo": {
     "elapsed": 86,
     "status": "ok",
     "timestamp": 1644321386788,
     "user": {
      "displayName": "Hitesh_Suthar_ 101_34",
      "photoUrl": "https://lh3.googleusercontent.com/a/default-user=s64",
      "userId": "01229137545188679455"
     },
     "user_tz": -330
    },
    "id": "de247a11"
   },
   "outputs": [],
   "source": [
    "# Make New Two Columns of Duration\n",
    "df['Duration_Hour'] = df['Duration'].apply(lambda x:int(x.split('h')[0]))\n",
    "df['Duration_Minute'] = df['Duration'].apply(lambda x:x.split('m')[0].split()[1])"
   ]
  },
  {
   "cell_type": "code",
   "execution_count": 20,
   "id": "40404e96",
   "metadata": {
    "colab": {
     "base_uri": "https://localhost:8080/"
    },
    "executionInfo": {
     "elapsed": 13,
     "status": "ok",
     "timestamp": 1644329336731,
     "user": {
      "displayName": "Hitesh_Suthar_ 101_34",
      "photoUrl": "https://lh3.googleusercontent.com/a/default-user=s64",
      "userId": "01229137545188679455"
     },
     "user_tz": -330
    },
    "id": "40404e96",
    "outputId": "09ed2728-57fd-47aa-d15a-da223ce373e2"
   },
   "outputs": [
    {
     "data": {
      "text/plain": [
       "array(['non-stop', '2 stops', '1 stop', '3 stops', '4 stops'],\n",
       "      dtype=object)"
      ]
     },
     "execution_count": 20,
     "metadata": {},
     "output_type": "execute_result"
    }
   ],
   "source": [
    "# Now Let's Handle Total Stops Column\n",
    "df['Total_Stops'].unique()"
   ]
  },
  {
   "cell_type": "code",
   "execution_count": 21,
   "id": "5c2d3936",
   "metadata": {
    "executionInfo": {
     "elapsed": 75,
     "status": "ok",
     "timestamp": 1644321386789,
     "user": {
      "displayName": "Hitesh_Suthar_ 101_34",
      "photoUrl": "https://lh3.googleusercontent.com/a/default-user=s64",
      "userId": "01229137545188679455"
     },
     "user_tz": -330
    },
    "id": "5c2d3936"
   },
   "outputs": [],
   "source": [
    "# Converting String to Integer\n",
    "\n",
    "# Method 1:\n",
    "# df = df.replace({'non-stop':0,'1 stop':1,'2 stops':2,'3 stops':3,'4 stops':4})\n",
    "\n",
    "#Method 2:\n",
    "from sklearn.preprocessing import OrdinalEncoder\n",
    "\n",
    "# Convert String to Integer Using Ordinal Encoder Because that is a ordering column\n",
    "oec = OrdinalEncoder(categories=[['non-stop', '1 stop', '2 stops', '3 stops', '4 stops']],dtype=int)\n",
    "\n",
    "stops = oec.fit_transform(np.array(df['Total_Stops']).reshape(-1,1))\n",
    "\n",
    "df['Total_Stops'] = stops"
   ]
  },
  {
   "cell_type": "code",
   "execution_count": 22,
   "id": "f504dc1f",
   "metadata": {
    "colab": {
     "base_uri": "https://localhost:8080/",
     "height": 652
    },
    "executionInfo": {
     "elapsed": 110,
     "status": "ok",
     "timestamp": 1644321387714,
     "user": {
      "displayName": "Hitesh_Suthar_ 101_34",
      "photoUrl": "https://lh3.googleusercontent.com/a/default-user=s64",
      "userId": "01229137545188679455"
     },
     "user_tz": -330
    },
    "id": "f504dc1f",
    "outputId": "d679de7c-ef83-479c-9e1f-76a3c3cf864e"
   },
   "outputs": [
    {
     "data": {
      "text/html": [
       "<div>\n",
       "<style scoped>\n",
       "    .dataframe tbody tr th:only-of-type {\n",
       "        vertical-align: middle;\n",
       "    }\n",
       "\n",
       "    .dataframe tbody tr th {\n",
       "        vertical-align: top;\n",
       "    }\n",
       "\n",
       "    .dataframe thead th {\n",
       "        text-align: right;\n",
       "    }\n",
       "</style>\n",
       "<table border=\"1\" class=\"dataframe\">\n",
       "  <thead>\n",
       "    <tr style=\"text-align: right;\">\n",
       "      <th></th>\n",
       "      <th>Airline</th>\n",
       "      <th>Date_of_Journey</th>\n",
       "      <th>Source</th>\n",
       "      <th>Destination</th>\n",
       "      <th>Route</th>\n",
       "      <th>Dep_Time</th>\n",
       "      <th>Arrival_Time</th>\n",
       "      <th>Duration</th>\n",
       "      <th>Total_Stops</th>\n",
       "      <th>Additional_Info</th>\n",
       "      <th>Price</th>\n",
       "      <th>journey_day</th>\n",
       "      <th>journey_month</th>\n",
       "      <th>date_is_weekend</th>\n",
       "      <th>Dep_Hour</th>\n",
       "      <th>Dep_Min</th>\n",
       "      <th>Arrival_Hour</th>\n",
       "      <th>Arrival_Min</th>\n",
       "      <th>Duration_Hour</th>\n",
       "      <th>Duration_Minute</th>\n",
       "    </tr>\n",
       "  </thead>\n",
       "  <tbody>\n",
       "    <tr>\n",
       "      <th>0</th>\n",
       "      <td>IndiGo</td>\n",
       "      <td>2019-03-24</td>\n",
       "      <td>Banglore</td>\n",
       "      <td>New Delhi</td>\n",
       "      <td>BLR → DEL</td>\n",
       "      <td>22:20</td>\n",
       "      <td>01:10 22 Mar</td>\n",
       "      <td>2h 50m</td>\n",
       "      <td>0</td>\n",
       "      <td>No info</td>\n",
       "      <td>3897</td>\n",
       "      <td>24</td>\n",
       "      <td>3</td>\n",
       "      <td>1</td>\n",
       "      <td>22</td>\n",
       "      <td>20</td>\n",
       "      <td>1</td>\n",
       "      <td>10</td>\n",
       "      <td>2</td>\n",
       "      <td>50</td>\n",
       "    </tr>\n",
       "    <tr>\n",
       "      <th>1</th>\n",
       "      <td>Air India</td>\n",
       "      <td>2019-01-05</td>\n",
       "      <td>Kolkata</td>\n",
       "      <td>Banglore</td>\n",
       "      <td>CCU → IXR → BBI → BLR</td>\n",
       "      <td>05:50</td>\n",
       "      <td>13:15</td>\n",
       "      <td>7h 25m</td>\n",
       "      <td>2</td>\n",
       "      <td>No info</td>\n",
       "      <td>7662</td>\n",
       "      <td>5</td>\n",
       "      <td>1</td>\n",
       "      <td>1</td>\n",
       "      <td>5</td>\n",
       "      <td>50</td>\n",
       "      <td>13</td>\n",
       "      <td>15</td>\n",
       "      <td>7</td>\n",
       "      <td>25</td>\n",
       "    </tr>\n",
       "    <tr>\n",
       "      <th>2</th>\n",
       "      <td>Jet Airways</td>\n",
       "      <td>2019-09-06</td>\n",
       "      <td>Delhi</td>\n",
       "      <td>Cochin</td>\n",
       "      <td>DEL → LKO → BOM → COK</td>\n",
       "      <td>09:25</td>\n",
       "      <td>04:25 10 Jun</td>\n",
       "      <td>19h 0m</td>\n",
       "      <td>2</td>\n",
       "      <td>No info</td>\n",
       "      <td>13882</td>\n",
       "      <td>6</td>\n",
       "      <td>9</td>\n",
       "      <td>0</td>\n",
       "      <td>9</td>\n",
       "      <td>25</td>\n",
       "      <td>4</td>\n",
       "      <td>25</td>\n",
       "      <td>19</td>\n",
       "      <td>0</td>\n",
       "    </tr>\n",
       "    <tr>\n",
       "      <th>3</th>\n",
       "      <td>IndiGo</td>\n",
       "      <td>2019-12-05</td>\n",
       "      <td>Kolkata</td>\n",
       "      <td>Banglore</td>\n",
       "      <td>CCU → NAG → BLR</td>\n",
       "      <td>18:05</td>\n",
       "      <td>23:30</td>\n",
       "      <td>5h 25m</td>\n",
       "      <td>1</td>\n",
       "      <td>No info</td>\n",
       "      <td>6218</td>\n",
       "      <td>5</td>\n",
       "      <td>12</td>\n",
       "      <td>0</td>\n",
       "      <td>18</td>\n",
       "      <td>5</td>\n",
       "      <td>23</td>\n",
       "      <td>30</td>\n",
       "      <td>5</td>\n",
       "      <td>25</td>\n",
       "    </tr>\n",
       "    <tr>\n",
       "      <th>4</th>\n",
       "      <td>IndiGo</td>\n",
       "      <td>2019-01-03</td>\n",
       "      <td>Banglore</td>\n",
       "      <td>New Delhi</td>\n",
       "      <td>BLR → NAG → DEL</td>\n",
       "      <td>16:50</td>\n",
       "      <td>21:35</td>\n",
       "      <td>4h 45m</td>\n",
       "      <td>1</td>\n",
       "      <td>No info</td>\n",
       "      <td>13302</td>\n",
       "      <td>3</td>\n",
       "      <td>1</td>\n",
       "      <td>0</td>\n",
       "      <td>16</td>\n",
       "      <td>50</td>\n",
       "      <td>21</td>\n",
       "      <td>35</td>\n",
       "      <td>4</td>\n",
       "      <td>45</td>\n",
       "    </tr>\n",
       "  </tbody>\n",
       "</table>\n",
       "</div>"
      ],
      "text/plain": [
       "       Airline Date_of_Journey    Source Destination                  Route  \\\n",
       "0       IndiGo      2019-03-24  Banglore   New Delhi              BLR → DEL   \n",
       "1    Air India      2019-01-05   Kolkata    Banglore  CCU → IXR → BBI → BLR   \n",
       "2  Jet Airways      2019-09-06     Delhi      Cochin  DEL → LKO → BOM → COK   \n",
       "3       IndiGo      2019-12-05   Kolkata    Banglore        CCU → NAG → BLR   \n",
       "4       IndiGo      2019-01-03  Banglore   New Delhi        BLR → NAG → DEL   \n",
       "\n",
       "  Dep_Time  Arrival_Time Duration  Total_Stops Additional_Info  Price  \\\n",
       "0    22:20  01:10 22 Mar   2h 50m            0         No info   3897   \n",
       "1    05:50         13:15   7h 25m            2         No info   7662   \n",
       "2    09:25  04:25 10 Jun   19h 0m            2         No info  13882   \n",
       "3    18:05         23:30   5h 25m            1         No info   6218   \n",
       "4    16:50         21:35   4h 45m            1         No info  13302   \n",
       "\n",
       "   journey_day  journey_month  date_is_weekend  Dep_Hour  Dep_Min  \\\n",
       "0           24              3                1        22       20   \n",
       "1            5              1                1         5       50   \n",
       "2            6              9                0         9       25   \n",
       "3            5             12                0        18        5   \n",
       "4            3              1                0        16       50   \n",
       "\n",
       "   Arrival_Hour  Arrival_Min  Duration_Hour Duration_Minute  \n",
       "0             1           10              2              50  \n",
       "1            13           15              7              25  \n",
       "2             4           25             19               0  \n",
       "3            23           30              5              25  \n",
       "4            21           35              4              45  "
      ]
     },
     "execution_count": 22,
     "metadata": {},
     "output_type": "execute_result"
    }
   ],
   "source": [
    "df.head()"
   ]
  },
  {
   "cell_type": "markdown",
   "id": "c787e31c",
   "metadata": {
    "id": "c787e31c"
   },
   "source": [
    "we can see from the data that Route and Total Stops are Presenting Same Info for stops. So, we are going to drop Route Column."
   ]
  },
  {
   "cell_type": "code",
   "execution_count": 23,
   "id": "79bb3d85",
   "metadata": {
    "executionInfo": {
     "elapsed": 91,
     "status": "ok",
     "timestamp": 1644321387715,
     "user": {
      "displayName": "Hitesh_Suthar_ 101_34",
      "photoUrl": "https://lh3.googleusercontent.com/a/default-user=s64",
      "userId": "01229137545188679455"
     },
     "user_tz": -330
    },
    "id": "79bb3d85"
   },
   "outputs": [],
   "source": [
    "# Drop Route,Date_of_journey,Dep_Time,Arrival_Time,Durations,Additional Info(Not Important) Columns\n",
    "df = df.drop(['Route','Date_of_Journey','Dep_Time','Arrival_Time','Duration','Additional_Info'],axis='columns')"
   ]
  },
  {
   "cell_type": "code",
   "execution_count": 24,
   "id": "fcbd9ba7",
   "metadata": {
    "colab": {
     "base_uri": "https://localhost:8080/",
     "height": 288
    },
    "executionInfo": {
     "elapsed": 90,
     "status": "ok",
     "timestamp": 1644321387715,
     "user": {
      "displayName": "Hitesh_Suthar_ 101_34",
      "photoUrl": "https://lh3.googleusercontent.com/a/default-user=s64",
      "userId": "01229137545188679455"
     },
     "user_tz": -330
    },
    "id": "fcbd9ba7",
    "outputId": "a8d1ae5e-88b2-4779-f86b-bc9e2bfd0974"
   },
   "outputs": [
    {
     "data": {
      "text/html": [
       "<div>\n",
       "<style scoped>\n",
       "    .dataframe tbody tr th:only-of-type {\n",
       "        vertical-align: middle;\n",
       "    }\n",
       "\n",
       "    .dataframe tbody tr th {\n",
       "        vertical-align: top;\n",
       "    }\n",
       "\n",
       "    .dataframe thead th {\n",
       "        text-align: right;\n",
       "    }\n",
       "</style>\n",
       "<table border=\"1\" class=\"dataframe\">\n",
       "  <thead>\n",
       "    <tr style=\"text-align: right;\">\n",
       "      <th></th>\n",
       "      <th>Airline</th>\n",
       "      <th>Source</th>\n",
       "      <th>Destination</th>\n",
       "      <th>Total_Stops</th>\n",
       "      <th>Price</th>\n",
       "      <th>journey_day</th>\n",
       "      <th>journey_month</th>\n",
       "      <th>date_is_weekend</th>\n",
       "      <th>Dep_Hour</th>\n",
       "      <th>Dep_Min</th>\n",
       "      <th>Arrival_Hour</th>\n",
       "      <th>Arrival_Min</th>\n",
       "      <th>Duration_Hour</th>\n",
       "      <th>Duration_Minute</th>\n",
       "    </tr>\n",
       "  </thead>\n",
       "  <tbody>\n",
       "    <tr>\n",
       "      <th>0</th>\n",
       "      <td>IndiGo</td>\n",
       "      <td>Banglore</td>\n",
       "      <td>New Delhi</td>\n",
       "      <td>0</td>\n",
       "      <td>3897</td>\n",
       "      <td>24</td>\n",
       "      <td>3</td>\n",
       "      <td>1</td>\n",
       "      <td>22</td>\n",
       "      <td>20</td>\n",
       "      <td>1</td>\n",
       "      <td>10</td>\n",
       "      <td>2</td>\n",
       "      <td>50</td>\n",
       "    </tr>\n",
       "    <tr>\n",
       "      <th>1</th>\n",
       "      <td>Air India</td>\n",
       "      <td>Kolkata</td>\n",
       "      <td>Banglore</td>\n",
       "      <td>2</td>\n",
       "      <td>7662</td>\n",
       "      <td>5</td>\n",
       "      <td>1</td>\n",
       "      <td>1</td>\n",
       "      <td>5</td>\n",
       "      <td>50</td>\n",
       "      <td>13</td>\n",
       "      <td>15</td>\n",
       "      <td>7</td>\n",
       "      <td>25</td>\n",
       "    </tr>\n",
       "    <tr>\n",
       "      <th>2</th>\n",
       "      <td>Jet Airways</td>\n",
       "      <td>Delhi</td>\n",
       "      <td>Cochin</td>\n",
       "      <td>2</td>\n",
       "      <td>13882</td>\n",
       "      <td>6</td>\n",
       "      <td>9</td>\n",
       "      <td>0</td>\n",
       "      <td>9</td>\n",
       "      <td>25</td>\n",
       "      <td>4</td>\n",
       "      <td>25</td>\n",
       "      <td>19</td>\n",
       "      <td>0</td>\n",
       "    </tr>\n",
       "    <tr>\n",
       "      <th>3</th>\n",
       "      <td>IndiGo</td>\n",
       "      <td>Kolkata</td>\n",
       "      <td>Banglore</td>\n",
       "      <td>1</td>\n",
       "      <td>6218</td>\n",
       "      <td>5</td>\n",
       "      <td>12</td>\n",
       "      <td>0</td>\n",
       "      <td>18</td>\n",
       "      <td>5</td>\n",
       "      <td>23</td>\n",
       "      <td>30</td>\n",
       "      <td>5</td>\n",
       "      <td>25</td>\n",
       "    </tr>\n",
       "    <tr>\n",
       "      <th>4</th>\n",
       "      <td>IndiGo</td>\n",
       "      <td>Banglore</td>\n",
       "      <td>New Delhi</td>\n",
       "      <td>1</td>\n",
       "      <td>13302</td>\n",
       "      <td>3</td>\n",
       "      <td>1</td>\n",
       "      <td>0</td>\n",
       "      <td>16</td>\n",
       "      <td>50</td>\n",
       "      <td>21</td>\n",
       "      <td>35</td>\n",
       "      <td>4</td>\n",
       "      <td>45</td>\n",
       "    </tr>\n",
       "  </tbody>\n",
       "</table>\n",
       "</div>"
      ],
      "text/plain": [
       "       Airline    Source Destination  Total_Stops  Price  journey_day  \\\n",
       "0       IndiGo  Banglore   New Delhi            0   3897           24   \n",
       "1    Air India   Kolkata    Banglore            2   7662            5   \n",
       "2  Jet Airways     Delhi      Cochin            2  13882            6   \n",
       "3       IndiGo   Kolkata    Banglore            1   6218            5   \n",
       "4       IndiGo  Banglore   New Delhi            1  13302            3   \n",
       "\n",
       "   journey_month  date_is_weekend  Dep_Hour  Dep_Min  Arrival_Hour  \\\n",
       "0              3                1        22       20             1   \n",
       "1              1                1         5       50            13   \n",
       "2              9                0         9       25             4   \n",
       "3             12                0        18        5            23   \n",
       "4              1                0        16       50            21   \n",
       "\n",
       "   Arrival_Min  Duration_Hour Duration_Minute  \n",
       "0           10              2              50  \n",
       "1           15              7              25  \n",
       "2           25             19               0  \n",
       "3           30              5              25  \n",
       "4           35              4              45  "
      ]
     },
     "execution_count": 24,
     "metadata": {},
     "output_type": "execute_result"
    }
   ],
   "source": [
    "df.head()"
   ]
  },
  {
   "cell_type": "markdown",
   "id": "6f721249",
   "metadata": {
    "id": "6f721249"
   },
   "source": [
    "# **Exploratory Data Analysis**"
   ]
  },
  {
   "cell_type": "code",
   "execution_count": 25,
   "id": "a872b48d",
   "metadata": {
    "colab": {
     "base_uri": "https://localhost:8080/"
    },
    "executionInfo": {
     "elapsed": 76,
     "status": "ok",
     "timestamp": 1644321387729,
     "user": {
      "displayName": "Hitesh_Suthar_ 101_34",
      "photoUrl": "https://lh3.googleusercontent.com/a/default-user=s64",
      "userId": "01229137545188679455"
     },
     "user_tz": -330
    },
    "id": "a872b48d",
    "outputId": "55746919-8cf0-487a-aaff-ac43b168a8b2"
   },
   "outputs": [
    {
     "data": {
      "text/plain": [
       "Jet Airways                          3700\n",
       "IndiGo                               2043\n",
       "Air India                            1694\n",
       "Multiple carriers                    1196\n",
       "SpiceJet                              815\n",
       "Vistara                               478\n",
       "Air Asia                              319\n",
       "GoAir                                 194\n",
       "Multiple carriers Premium economy      13\n",
       "Jet Airways Business                    6\n",
       "Vistara Premium economy                 3\n",
       "Trujet                                  1\n",
       "Name: Airline, dtype: int64"
      ]
     },
     "execution_count": 25,
     "metadata": {},
     "output_type": "execute_result"
    }
   ],
   "source": [
    "# Let's Analyze Airline Column\n",
    "df['Airline'].value_counts()"
   ]
  },
  {
   "cell_type": "code",
   "execution_count": 26,
   "id": "8e81dfc1",
   "metadata": {
    "colab": {
     "base_uri": "https://localhost:8080/",
     "height": 450
    },
    "executionInfo": {
     "elapsed": 666,
     "status": "ok",
     "timestamp": 1644321388339,
     "user": {
      "displayName": "Hitesh_Suthar_ 101_34",
      "photoUrl": "https://lh3.googleusercontent.com/a/default-user=s64",
      "userId": "01229137545188679455"
     },
     "user_tz": -330
    },
    "id": "8e81dfc1",
    "outputId": "86305a6b-d7de-4c35-ef60-6b8f50efd48b"
   },
   "outputs": [
    {
     "data": {
      "image/png": "[encoded data removed]",
      "text/plain": [
       "<Figure size 432x288 with 1 Axes>"
      ]
     },
     "metadata": {
      "needs_background": "light"
     },
     "output_type": "display_data"
    }
   ],
   "source": [
    "# Average Prices of Every Airlines\n",
    "sns.barplot(x='Airline',y='Price',data=df.sort_values('Price',ascending=False))\n",
    "plt.xticks(rotation=90)\n",
    "plt.show()"
   ]
  },
  {
   "cell_type": "markdown",
   "id": "518e4fad",
   "metadata": {
    "id": "518e4fad"
   },
   "source": [
    "We can see from the chart that jet Airways Business Flight Price is Very Higher in compare to Other Airlines"
   ]
  },
  {
   "cell_type": "code",
   "execution_count": 27,
   "id": "0c2db4f5",
   "metadata": {
    "colab": {
     "base_uri": "https://localhost:8080/"
    },
    "executionInfo": {
     "elapsed": 36,
     "status": "ok",
     "timestamp": 1644321388340,
     "user": {
      "displayName": "Hitesh_Suthar_ 101_34",
      "photoUrl": "https://lh3.googleusercontent.com/a/default-user=s64",
      "userId": "01229137545188679455"
     },
     "user_tz": -330
    },
    "id": "0c2db4f5",
    "outputId": "269a6709-e9af-418a-eaf5-60b3f8bb6ae9"
   },
   "outputs": [
    {
     "data": {
      "text/plain": [
       "Delhi       4345\n",
       "Kolkata     2860\n",
       "Banglore    2179\n",
       "Mumbai       697\n",
       "Chennai      381\n",
       "Name: Source, dtype: int64"
      ]
     },
     "execution_count": 27,
     "metadata": {},
     "output_type": "execute_result"
    }
   ],
   "source": [
    "# Let's Analyze Source and Destination Also\n",
    "df['Source'].value_counts()"
   ]
  },
  {
   "cell_type": "code",
   "execution_count": 28,
   "id": "b75815f3",
   "metadata": {
    "colab": {
     "base_uri": "https://localhost:8080/",
     "height": 296
    },
    "executionInfo": {
     "elapsed": 636,
     "status": "ok",
     "timestamp": 1644321388947,
     "user": {
      "displayName": "Hitesh_Suthar_ 101_34",
      "photoUrl": "https://lh3.googleusercontent.com/a/default-user=s64",
      "userId": "01229137545188679455"
     },
     "user_tz": -330
    },
    "id": "b75815f3",
    "outputId": "a5c07da2-c690-4b3f-fdf7-0ac91d66b1e7"
   },
   "outputs": [
    {
     "data": {
      "text/plain": [
       "<AxesSubplot:xlabel='Source', ylabel='Price'>"
      ]
     },
     "execution_count": 28,
     "metadata": {},
     "output_type": "execute_result"
    },
    {
     "data": {
      "image/png": "[encoded data removed]",
      "text/plain": [
       "<Figure size 432x288 with 1 Axes>"
      ]
     },
     "metadata": {
      "needs_background": "light"
     },
     "output_type": "display_data"
    }
   ],
   "source": [
    "# Average Price from Avery Source\n",
    "sns.barplot(x='Source',y='Price',data=df.sort_values('Price',ascending=False))"
   ]
  },
  {
   "cell_type": "markdown",
   "id": "a7e880de",
   "metadata": {
    "id": "a7e880de"
   },
   "source": [
    "We can see from the above chart that average price of Banglore, Delhi and Kolkata is Higher."
   ]
  },
  {
   "cell_type": "code",
   "execution_count": 29,
   "id": "e84fb677",
   "metadata": {
    "colab": {
     "base_uri": "https://localhost:8080/"
    },
    "executionInfo": {
     "elapsed": 42,
     "status": "ok",
     "timestamp": 1644321388950,
     "user": {
      "displayName": "Hitesh_Suthar_ 101_34",
      "photoUrl": "https://lh3.googleusercontent.com/a/default-user=s64",
      "userId": "01229137545188679455"
     },
     "user_tz": -330
    },
    "id": "e84fb677",
    "outputId": "c78c9371-0942-4331-a89c-20cfc620aea6"
   },
   "outputs": [
    {
     "data": {
      "text/plain": [
       "Cochin       4345\n",
       "Banglore     2860\n",
       "Delhi        1265\n",
       "New Delhi     914\n",
       "Hyderabad     697\n",
       "Kolkata       381\n",
       "Name: Destination, dtype: int64"
      ]
     },
     "execution_count": 29,
     "metadata": {},
     "output_type": "execute_result"
    }
   ],
   "source": [
    "# Let's Analyze Destination Column also\n",
    "df['Destination'].value_counts()"
   ]
  },
  {
   "cell_type": "code",
   "execution_count": 30,
   "id": "90e5f8b0",
   "metadata": {
    "colab": {
     "base_uri": "https://localhost:8080/",
     "height": 296
    },
    "executionInfo": {
     "elapsed": 34,
     "status": "ok",
     "timestamp": 1644321388952,
     "user": {
      "displayName": "Hitesh_Suthar_ 101_34",
      "photoUrl": "https://lh3.googleusercontent.com/a/default-user=s64",
      "userId": "01229137545188679455"
     },
     "user_tz": -330
    },
    "id": "90e5f8b0",
    "outputId": "d1c169bb-2cc4-4e3e-b655-6ae5822a9f27"
   },
   "outputs": [
    {
     "data": {
      "text/plain": [
       "<AxesSubplot:xlabel='Destination', ylabel='Price'>"
      ]
     },
     "execution_count": 30,
     "metadata": {},
     "output_type": "execute_result"
    },
    {
     "data": {
      "image/png": "[encoded data removed]",
      "text/plain": [
       "<Figure size 432x288 with 1 Axes>"
      ]
     },
     "metadata": {
      "needs_background": "light"
     },
     "output_type": "display_data"
    }
   ],
   "source": [
    "# We can make Visualization With Avg. Price for Destination\n",
    "sns.barplot(x='Destination',y='Price',data=df.sort_values('Price',ascending=False))"
   ]
  },
  {
   "cell_type": "markdown",
   "id": "8c80ae62",
   "metadata": {
    "id": "8c80ae62"
   },
   "source": [
    "New Delhi, Cochin and Banglore's Price is Very High in Compare to Others"
   ]
  },
  {
   "cell_type": "code",
   "execution_count": 31,
   "id": "GKu0mMOyfLFf",
   "metadata": {
    "colab": {
     "base_uri": "https://localhost:8080/",
     "height": 296
    },
    "executionInfo": {
     "elapsed": 795,
     "status": "ok",
     "timestamp": 1644321389727,
     "user": {
      "displayName": "Hitesh_Suthar_ 101_34",
      "photoUrl": "https://lh3.googleusercontent.com/a/default-user=s64",
      "userId": "01229137545188679455"
     },
     "user_tz": -330
    },
    "id": "GKu0mMOyfLFf",
    "outputId": "3a18a247-ec9a-42e8-de36-43d14115387d"
   },
   "outputs": [
    {
     "data": {
      "text/plain": [
       "<AxesSubplot:xlabel='Price', ylabel='Duration_Hour'>"
      ]
     },
     "execution_count": 31,
     "metadata": {},
     "output_type": "execute_result"
    },
    {
     "data": {
      "image/png": "[encoded data removed]",
      "text/plain": [
       "<Figure size 432x288 with 1 Axes>"
      ]
     },
     "metadata": {
      "needs_background": "light"
     },
     "output_type": "display_data"
    }
   ],
   "source": [
    "# Let's Analyze If Our Duration Hour is Increasing than Our Price are increasing Or Not ? \n",
    "sns.scatterplot(data=df,x='Price',y='Duration_Hour')"
   ]
  },
  {
   "cell_type": "code",
   "execution_count": 32,
   "id": "bZvmYOJpgkhy",
   "metadata": {
    "colab": {
     "base_uri": "https://localhost:8080/",
     "height": 297
    },
    "executionInfo": {
     "elapsed": 44,
     "status": "ok",
     "timestamp": 1644321389728,
     "user": {
      "displayName": "Hitesh_Suthar_ 101_34",
      "photoUrl": "https://lh3.googleusercontent.com/a/default-user=s64",
      "userId": "01229137545188679455"
     },
     "user_tz": -330
    },
    "id": "bZvmYOJpgkhy",
    "outputId": "18c5274f-5bd9-4bd8-e7e8-60f193feff62"
   },
   "outputs": [
    {
     "data": {
      "text/plain": [
       "<AxesSubplot:xlabel='date_is_weekend', ylabel='Price'>"
      ]
     },
     "execution_count": 32,
     "metadata": {},
     "output_type": "execute_result"
    },
    {
     "data": {
      "image/png": "[encoded data removed]",
      "text/plain": [
       "<Figure size 432x288 with 1 Axes>"
      ]
     },
     "metadata": {
      "needs_background": "light"
     },
     "output_type": "display_data"
    }
   ],
   "source": [
    "# Let's Check that Price is effected by Weekend or not ?\n",
    "sns.barplot(data=df,x='date_is_weekend',y='Price')"
   ]
  },
  {
   "cell_type": "markdown",
   "id": "nYjl9l2wg-xo",
   "metadata": {
    "id": "nYjl9l2wg-xo"
   },
   "source": [
    "No. There is almost Same Average Price on Weekend Days and Other Days."
   ]
  },
  {
   "cell_type": "markdown",
   "id": "5c046dba",
   "metadata": {
    "id": "5c046dba"
   },
   "source": [
    "# Outliers Detection"
   ]
  },
  {
   "cell_type": "code",
   "execution_count": 33,
   "id": "16368adf",
   "metadata": {
    "colab": {
     "base_uri": "https://localhost:8080/",
     "height": 288
    },
    "executionInfo": {
     "elapsed": 32,
     "status": "ok",
     "timestamp": 1644321389729,
     "user": {
      "displayName": "Hitesh_Suthar_ 101_34",
      "photoUrl": "https://lh3.googleusercontent.com/a/default-user=s64",
      "userId": "01229137545188679455"
     },
     "user_tz": -330
    },
    "id": "16368adf",
    "outputId": "446ae901-613c-4371-905d-acda3607d236"
   },
   "outputs": [
    {
     "data": {
      "text/html": [
       "<div>\n",
       "<style scoped>\n",
       "    .dataframe tbody tr th:only-of-type {\n",
       "        vertical-align: middle;\n",
       "    }\n",
       "\n",
       "    .dataframe tbody tr th {\n",
       "        vertical-align: top;\n",
       "    }\n",
       "\n",
       "    .dataframe thead th {\n",
       "        text-align: right;\n",
       "    }\n",
       "</style>\n",
       "<table border=\"1\" class=\"dataframe\">\n",
       "  <thead>\n",
       "    <tr style=\"text-align: right;\">\n",
       "      <th></th>\n",
       "      <th>Airline</th>\n",
       "      <th>Source</th>\n",
       "      <th>Destination</th>\n",
       "      <th>Total_Stops</th>\n",
       "      <th>Price</th>\n",
       "      <th>journey_day</th>\n",
       "      <th>journey_month</th>\n",
       "      <th>date_is_weekend</th>\n",
       "      <th>Dep_Hour</th>\n",
       "      <th>Dep_Min</th>\n",
       "      <th>Arrival_Hour</th>\n",
       "      <th>Arrival_Min</th>\n",
       "      <th>Duration_Hour</th>\n",
       "      <th>Duration_Minute</th>\n",
       "    </tr>\n",
       "  </thead>\n",
       "  <tbody>\n",
       "    <tr>\n",
       "      <th>0</th>\n",
       "      <td>IndiGo</td>\n",
       "      <td>Banglore</td>\n",
       "      <td>New Delhi</td>\n",
       "      <td>0</td>\n",
       "      <td>3897</td>\n",
       "      <td>24</td>\n",
       "      <td>3</td>\n",
       "      <td>1</td>\n",
       "      <td>22</td>\n",
       "      <td>20</td>\n",
       "      <td>1</td>\n",
       "      <td>10</td>\n",
       "      <td>2</td>\n",
       "      <td>50</td>\n",
       "    </tr>\n",
       "    <tr>\n",
       "      <th>1</th>\n",
       "      <td>Air India</td>\n",
       "      <td>Kolkata</td>\n",
       "      <td>Banglore</td>\n",
       "      <td>2</td>\n",
       "      <td>7662</td>\n",
       "      <td>5</td>\n",
       "      <td>1</td>\n",
       "      <td>1</td>\n",
       "      <td>5</td>\n",
       "      <td>50</td>\n",
       "      <td>13</td>\n",
       "      <td>15</td>\n",
       "      <td>7</td>\n",
       "      <td>25</td>\n",
       "    </tr>\n",
       "    <tr>\n",
       "      <th>2</th>\n",
       "      <td>Jet Airways</td>\n",
       "      <td>Delhi</td>\n",
       "      <td>Cochin</td>\n",
       "      <td>2</td>\n",
       "      <td>13882</td>\n",
       "      <td>6</td>\n",
       "      <td>9</td>\n",
       "      <td>0</td>\n",
       "      <td>9</td>\n",
       "      <td>25</td>\n",
       "      <td>4</td>\n",
       "      <td>25</td>\n",
       "      <td>19</td>\n",
       "      <td>0</td>\n",
       "    </tr>\n",
       "    <tr>\n",
       "      <th>3</th>\n",
       "      <td>IndiGo</td>\n",
       "      <td>Kolkata</td>\n",
       "      <td>Banglore</td>\n",
       "      <td>1</td>\n",
       "      <td>6218</td>\n",
       "      <td>5</td>\n",
       "      <td>12</td>\n",
       "      <td>0</td>\n",
       "      <td>18</td>\n",
       "      <td>5</td>\n",
       "      <td>23</td>\n",
       "      <td>30</td>\n",
       "      <td>5</td>\n",
       "      <td>25</td>\n",
       "    </tr>\n",
       "    <tr>\n",
       "      <th>4</th>\n",
       "      <td>IndiGo</td>\n",
       "      <td>Banglore</td>\n",
       "      <td>New Delhi</td>\n",
       "      <td>1</td>\n",
       "      <td>13302</td>\n",
       "      <td>3</td>\n",
       "      <td>1</td>\n",
       "      <td>0</td>\n",
       "      <td>16</td>\n",
       "      <td>50</td>\n",
       "      <td>21</td>\n",
       "      <td>35</td>\n",
       "      <td>4</td>\n",
       "      <td>45</td>\n",
       "    </tr>\n",
       "  </tbody>\n",
       "</table>\n",
       "</div>"
      ],
      "text/plain": [
       "       Airline    Source Destination  Total_Stops  Price  journey_day  \\\n",
       "0       IndiGo  Banglore   New Delhi            0   3897           24   \n",
       "1    Air India   Kolkata    Banglore            2   7662            5   \n",
       "2  Jet Airways     Delhi      Cochin            2  13882            6   \n",
       "3       IndiGo   Kolkata    Banglore            1   6218            5   \n",
       "4       IndiGo  Banglore   New Delhi            1  13302            3   \n",
       "\n",
       "   journey_month  date_is_weekend  Dep_Hour  Dep_Min  Arrival_Hour  \\\n",
       "0              3                1        22       20             1   \n",
       "1              1                1         5       50            13   \n",
       "2              9                0         9       25             4   \n",
       "3             12                0        18        5            23   \n",
       "4              1                0        16       50            21   \n",
       "\n",
       "   Arrival_Min  Duration_Hour Duration_Minute  \n",
       "0           10              2              50  \n",
       "1           15              7              25  \n",
       "2           25             19               0  \n",
       "3           30              5              25  \n",
       "4           35              4              45  "
      ]
     },
     "execution_count": 33,
     "metadata": {},
     "output_type": "execute_result"
    }
   ],
   "source": [
    "df.head()"
   ]
  },
  {
   "cell_type": "code",
   "execution_count": 34,
   "id": "6edb2510",
   "metadata": {
    "colab": {
     "base_uri": "https://localhost:8080/"
    },
    "executionInfo": {
     "elapsed": 30,
     "status": "ok",
     "timestamp": 1644321389730,
     "user": {
      "displayName": "Hitesh_Suthar_ 101_34",
      "photoUrl": "https://lh3.googleusercontent.com/a/default-user=s64",
      "userId": "01229137545188679455"
     },
     "user_tz": -330
    },
    "id": "6edb2510",
    "outputId": "55d33612-e26b-4ab6-aa57-09024a24c3a6"
   },
   "outputs": [
    {
     "name": "stdout",
     "output_type": "stream",
     "text": [
      "(10462, 14)\n"
     ]
    }
   ],
   "source": [
    "print(df.shape)"
   ]
  },
  {
   "cell_type": "code",
   "execution_count": 35,
   "id": "e621aba0",
   "metadata": {},
   "outputs": [
    {
     "data": {
      "text/html": [
       "<div>\n",
       "<style scoped>\n",
       "    .dataframe tbody tr th:only-of-type {\n",
       "        vertical-align: middle;\n",
       "    }\n",
       "\n",
       "    .dataframe tbody tr th {\n",
       "        vertical-align: top;\n",
       "    }\n",
       "\n",
       "    .dataframe thead th {\n",
       "        text-align: right;\n",
       "    }\n",
       "</style>\n",
       "<table border=\"1\" class=\"dataframe\">\n",
       "  <thead>\n",
       "    <tr style=\"text-align: right;\">\n",
       "      <th></th>\n",
       "      <th>Airline</th>\n",
       "      <th>Source</th>\n",
       "      <th>Destination</th>\n",
       "      <th>Total_Stops</th>\n",
       "      <th>Price</th>\n",
       "      <th>journey_day</th>\n",
       "      <th>journey_month</th>\n",
       "      <th>date_is_weekend</th>\n",
       "      <th>Dep_Hour</th>\n",
       "      <th>Dep_Min</th>\n",
       "      <th>Arrival_Hour</th>\n",
       "      <th>Arrival_Min</th>\n",
       "      <th>Duration_Hour</th>\n",
       "      <th>Duration_Minute</th>\n",
       "    </tr>\n",
       "  </thead>\n",
       "  <tbody>\n",
       "    <tr>\n",
       "      <th>618</th>\n",
       "      <td>Air Asia</td>\n",
       "      <td>Banglore</td>\n",
       "      <td>Delhi</td>\n",
       "      <td>0</td>\n",
       "      <td>6181</td>\n",
       "      <td>5</td>\n",
       "      <td>3</td>\n",
       "      <td>0</td>\n",
       "      <td>4</td>\n",
       "      <td>55</td>\n",
       "      <td>7</td>\n",
       "      <td>45</td>\n",
       "      <td>2</td>\n",
       "      <td>50</td>\n",
       "    </tr>\n",
       "    <tr>\n",
       "      <th>5273</th>\n",
       "      <td>Air Asia</td>\n",
       "      <td>Banglore</td>\n",
       "      <td>Delhi</td>\n",
       "      <td>0</td>\n",
       "      <td>7080</td>\n",
       "      <td>4</td>\n",
       "      <td>12</td>\n",
       "      <td>0</td>\n",
       "      <td>23</td>\n",
       "      <td>55</td>\n",
       "      <td>2</td>\n",
       "      <td>45</td>\n",
       "      <td>2</td>\n",
       "      <td>50</td>\n",
       "    </tr>\n",
       "    <tr>\n",
       "      <th>6069</th>\n",
       "      <td>Air Asia</td>\n",
       "      <td>Banglore</td>\n",
       "      <td>Delhi</td>\n",
       "      <td>0</td>\n",
       "      <td>8420</td>\n",
       "      <td>6</td>\n",
       "      <td>9</td>\n",
       "      <td>0</td>\n",
       "      <td>4</td>\n",
       "      <td>55</td>\n",
       "      <td>7</td>\n",
       "      <td>45</td>\n",
       "      <td>2</td>\n",
       "      <td>50</td>\n",
       "    </tr>\n",
       "    <tr>\n",
       "      <th>7282</th>\n",
       "      <td>Air Asia</td>\n",
       "      <td>Banglore</td>\n",
       "      <td>Delhi</td>\n",
       "      <td>0</td>\n",
       "      <td>7120</td>\n",
       "      <td>6</td>\n",
       "      <td>3</td>\n",
       "      <td>0</td>\n",
       "      <td>23</td>\n",
       "      <td>55</td>\n",
       "      <td>2</td>\n",
       "      <td>45</td>\n",
       "      <td>2</td>\n",
       "      <td>50</td>\n",
       "    </tr>\n",
       "    <tr>\n",
       "      <th>7350</th>\n",
       "      <td>Air Asia</td>\n",
       "      <td>Banglore</td>\n",
       "      <td>Delhi</td>\n",
       "      <td>0</td>\n",
       "      <td>7120</td>\n",
       "      <td>6</td>\n",
       "      <td>6</td>\n",
       "      <td>0</td>\n",
       "      <td>23</td>\n",
       "      <td>55</td>\n",
       "      <td>2</td>\n",
       "      <td>45</td>\n",
       "      <td>2</td>\n",
       "      <td>50</td>\n",
       "    </tr>\n",
       "    <tr>\n",
       "      <th>8152</th>\n",
       "      <td>Air Asia</td>\n",
       "      <td>Banglore</td>\n",
       "      <td>Delhi</td>\n",
       "      <td>0</td>\n",
       "      <td>7120</td>\n",
       "      <td>6</td>\n",
       "      <td>1</td>\n",
       "      <td>1</td>\n",
       "      <td>23</td>\n",
       "      <td>55</td>\n",
       "      <td>2</td>\n",
       "      <td>45</td>\n",
       "      <td>2</td>\n",
       "      <td>50</td>\n",
       "    </tr>\n",
       "    <tr>\n",
       "      <th>8743</th>\n",
       "      <td>Air Asia</td>\n",
       "      <td>Banglore</td>\n",
       "      <td>Delhi</td>\n",
       "      <td>0</td>\n",
       "      <td>7120</td>\n",
       "      <td>6</td>\n",
       "      <td>9</td>\n",
       "      <td>0</td>\n",
       "      <td>23</td>\n",
       "      <td>55</td>\n",
       "      <td>2</td>\n",
       "      <td>45</td>\n",
       "      <td>2</td>\n",
       "      <td>50</td>\n",
       "    </tr>\n",
       "  </tbody>\n",
       "</table>\n",
       "</div>"
      ],
      "text/plain": [
       "       Airline    Source Destination  Total_Stops  Price  journey_day  \\\n",
       "618   Air Asia  Banglore       Delhi            0   6181            5   \n",
       "5273  Air Asia  Banglore       Delhi            0   7080            4   \n",
       "6069  Air Asia  Banglore       Delhi            0   8420            6   \n",
       "7282  Air Asia  Banglore       Delhi            0   7120            6   \n",
       "7350  Air Asia  Banglore       Delhi            0   7120            6   \n",
       "8152  Air Asia  Banglore       Delhi            0   7120            6   \n",
       "8743  Air Asia  Banglore       Delhi            0   7120            6   \n",
       "\n",
       "      journey_month  date_is_weekend  Dep_Hour  Dep_Min  Arrival_Hour  \\\n",
       "618               3                0         4       55             7   \n",
       "5273             12                0        23       55             2   \n",
       "6069              9                0         4       55             7   \n",
       "7282              3                0        23       55             2   \n",
       "7350              6                0        23       55             2   \n",
       "8152              1                1        23       55             2   \n",
       "8743              9                0        23       55             2   \n",
       "\n",
       "      Arrival_Min  Duration_Hour Duration_Minute  \n",
       "618            45              2              50  \n",
       "5273           45              2              50  \n",
       "6069           45              2              50  \n",
       "7282           45              2              50  \n",
       "7350           45              2              50  \n",
       "8152           45              2              50  \n",
       "8743           45              2              50  "
      ]
     },
     "execution_count": 35,
     "metadata": {},
     "output_type": "execute_result"
    }
   ],
   "source": [
    "# for check Outliers\n",
    "df[(df['Airline'] == 'Air Asia') & (df['Source'] == 'Banglore') & (df['Price']>5265) & (df['Destination'] == 'Delhi')]"
   ]
  },
  {
   "cell_type": "code",
   "execution_count": 36,
   "id": "9d7fcf34",
   "metadata": {
    "executionInfo": {
     "elapsed": 611,
     "status": "ok",
     "timestamp": 1644321390321,
     "user": {
      "displayName": "Hitesh_Suthar_ 101_34",
      "photoUrl": "https://lh3.googleusercontent.com/a/default-user=s64",
      "userId": "01229137545188679455"
     },
     "user_tz": -330
    },
    "id": "9d7fcf34"
   },
   "outputs": [],
   "source": [
    "# Function for remove ourliers\n",
    "def remove_airline_price_outliers(df):\n",
    "    df_out = pd.DataFrame()\n",
    "    for airline,airline_df in df.groupby('Airline'):\n",
    "        for source,source_df in airline_df.groupby('Source'):\n",
    "            for destination,destination_df in source_df.groupby('Destination'):\n",
    "                \n",
    "                m = np.mean(destination_df['Price'])\n",
    "                st = np.std(destination_df['Price'])\n",
    "                \n",
    "                reduced_df = destination_df[(destination_df['Price'] >=(m-st)) & (destination_df['Price'] <= (m+st))]\n",
    "                \n",
    "                df_out = pd.concat([df_out,reduced_df],ignore_index=True)\n",
    "        \n",
    "    return df_out\n",
    "        \n",
    "df2 = remove_airline_price_outliers(df)"
   ]
  },
  {
   "cell_type": "code",
   "execution_count": 37,
   "id": "3d372dc6",
   "metadata": {
    "colab": {
     "base_uri": "https://localhost:8080/"
    },
    "executionInfo": {
     "elapsed": 68,
     "status": "ok",
     "timestamp": 1644321390322,
     "user": {
      "displayName": "Hitesh_Suthar_ 101_34",
      "photoUrl": "https://lh3.googleusercontent.com/a/default-user=s64",
      "userId": "01229137545188679455"
     },
     "user_tz": -330
    },
    "id": "3d372dc6",
    "outputId": "1ebed6ff-756d-4420-d2ad-4f4b115ffe9f"
   },
   "outputs": [
    {
     "data": {
      "text/plain": [
       "((10462, 14), (7884, 14))"
      ]
     },
     "execution_count": 37,
     "metadata": {},
     "output_type": "execute_result"
    }
   ],
   "source": [
    "# Shape After Remove Outliers\n",
    "df.shape,df2.shape"
   ]
  },
  {
   "cell_type": "code",
   "execution_count": 38,
   "id": "c443ee8f",
   "metadata": {
    "executionInfo": {
     "elapsed": 63,
     "status": "ok",
     "timestamp": 1644321390322,
     "user": {
      "displayName": "Hitesh_Suthar_ 101_34",
      "photoUrl": "https://lh3.googleusercontent.com/a/default-user=s64",
      "userId": "01229137545188679455"
     },
     "user_tz": -330
    },
    "id": "c443ee8f"
   },
   "outputs": [],
   "source": [
    "# Convert Airlines,Source and Destinations to Numerical Using Encoding\n",
    "dummies = pd.get_dummies(df2[['Airline','Source','Destination']],drop_first=True)"
   ]
  },
  {
   "cell_type": "code",
   "execution_count": 39,
   "id": "10962178",
   "metadata": {
    "colab": {
     "base_uri": "https://localhost:8080/"
    },
    "executionInfo": {
     "elapsed": 63,
     "status": "ok",
     "timestamp": 1644321390323,
     "user": {
      "displayName": "Hitesh_Suthar_ 101_34",
      "photoUrl": "https://lh3.googleusercontent.com/a/default-user=s64",
      "userId": "01229137545188679455"
     },
     "user_tz": -330
    },
    "id": "10962178",
    "outputId": "56fee504-7041-4d03-c507-5789d920520c"
   },
   "outputs": [
    {
     "data": {
      "text/plain": [
       "['Airline',\n",
       " 'Source',\n",
       " 'Destination',\n",
       " 'Total_Stops',\n",
       " 'Price',\n",
       " 'journey_day',\n",
       " 'journey_month',\n",
       " 'date_is_weekend',\n",
       " 'Dep_Hour',\n",
       " 'Dep_Min',\n",
       " 'Arrival_Hour',\n",
       " 'Arrival_Min',\n",
       " 'Duration_Hour',\n",
       " 'Duration_Minute',\n",
       " 'Airline_Air India',\n",
       " 'Airline_GoAir',\n",
       " 'Airline_IndiGo',\n",
       " 'Airline_Jet Airways',\n",
       " 'Airline_Jet Airways Business',\n",
       " 'Airline_Multiple carriers',\n",
       " 'Airline_Multiple carriers Premium economy',\n",
       " 'Airline_SpiceJet',\n",
       " 'Airline_Trujet',\n",
       " 'Airline_Vistara',\n",
       " 'Airline_Vistara Premium economy',\n",
       " 'Source_Chennai',\n",
       " 'Source_Delhi',\n",
       " 'Source_Kolkata',\n",
       " 'Source_Mumbai',\n",
       " 'Destination_Cochin',\n",
       " 'Destination_Delhi',\n",
       " 'Destination_Hyderabad',\n",
       " 'Destination_Kolkata',\n",
       " 'Destination_New Delhi']"
      ]
     },
     "execution_count": 39,
     "metadata": {},
     "output_type": "execute_result"
    }
   ],
   "source": [
    "# fetch columns name for our final Dataset\n",
    "cols = list(df2.columns) + list(dummies.columns)\n",
    "cols"
   ]
  },
  {
   "cell_type": "code",
   "execution_count": 40,
   "id": "05b1307a",
   "metadata": {
    "executionInfo": {
     "elapsed": 51,
     "status": "ok",
     "timestamp": 1644321390324,
     "user": {
      "displayName": "Hitesh_Suthar_ 101_34",
      "photoUrl": "https://lh3.googleusercontent.com/a/default-user=s64",
      "userId": "01229137545188679455"
     },
     "user_tz": -330
    },
    "id": "05b1307a"
   },
   "outputs": [],
   "source": [
    "# Now Concat Dummies of Categorical Variable to Real DataFrame\n",
    "df3 = pd.concat([df2,dummies],ignore_index=True,axis=1)\n",
    "df3.columns = cols"
   ]
  },
  {
   "cell_type": "code",
   "execution_count": 41,
   "id": "0cadb911",
   "metadata": {
    "executionInfo": {
     "elapsed": 51,
     "status": "ok",
     "timestamp": 1644321390325,
     "user": {
      "displayName": "Hitesh_Suthar_ 101_34",
      "photoUrl": "https://lh3.googleusercontent.com/a/default-user=s64",
      "userId": "01229137545188679455"
     },
     "user_tz": -330
    },
    "id": "0cadb911"
   },
   "outputs": [],
   "source": [
    "final_df = df3.drop(['Airline','Source','Destination'],axis=1)"
   ]
  },
  {
   "cell_type": "code",
   "execution_count": 42,
   "id": "32e48487",
   "metadata": {
    "colab": {
     "base_uri": "https://localhost:8080/",
     "height": 305
    },
    "executionInfo": {
     "elapsed": 50,
     "status": "ok",
     "timestamp": 1644321390326,
     "user": {
      "displayName": "Hitesh_Suthar_ 101_34",
      "photoUrl": "https://lh3.googleusercontent.com/a/default-user=s64",
      "userId": "01229137545188679455"
     },
     "user_tz": -330
    },
    "id": "32e48487",
    "outputId": "f67e6f92-7e5f-42a3-eec4-ac090ae01cf3"
   },
   "outputs": [
    {
     "data": {
      "text/html": [
       "<div>\n",
       "<style scoped>\n",
       "    .dataframe tbody tr th:only-of-type {\n",
       "        vertical-align: middle;\n",
       "    }\n",
       "\n",
       "    .dataframe tbody tr th {\n",
       "        vertical-align: top;\n",
       "    }\n",
       "\n",
       "    .dataframe thead th {\n",
       "        text-align: right;\n",
       "    }\n",
       "</style>\n",
       "<table border=\"1\" class=\"dataframe\">\n",
       "  <thead>\n",
       "    <tr style=\"text-align: right;\">\n",
       "      <th></th>\n",
       "      <th>Total_Stops</th>\n",
       "      <th>Price</th>\n",
       "      <th>journey_day</th>\n",
       "      <th>journey_month</th>\n",
       "      <th>date_is_weekend</th>\n",
       "      <th>Dep_Hour</th>\n",
       "      <th>Dep_Min</th>\n",
       "      <th>Arrival_Hour</th>\n",
       "      <th>Arrival_Min</th>\n",
       "      <th>Duration_Hour</th>\n",
       "      <th>...</th>\n",
       "      <th>Airline_Vistara Premium economy</th>\n",
       "      <th>Source_Chennai</th>\n",
       "      <th>Source_Delhi</th>\n",
       "      <th>Source_Kolkata</th>\n",
       "      <th>Source_Mumbai</th>\n",
       "      <th>Destination_Cochin</th>\n",
       "      <th>Destination_Delhi</th>\n",
       "      <th>Destination_Hyderabad</th>\n",
       "      <th>Destination_Kolkata</th>\n",
       "      <th>Destination_New Delhi</th>\n",
       "    </tr>\n",
       "  </thead>\n",
       "  <tbody>\n",
       "    <tr>\n",
       "      <th>5458</th>\n",
       "      <td>1</td>\n",
       "      <td>11467</td>\n",
       "      <td>21</td>\n",
       "      <td>5</td>\n",
       "      <td>0</td>\n",
       "      <td>9</td>\n",
       "      <td>35</td>\n",
       "      <td>14</td>\n",
       "      <td>25</td>\n",
       "      <td>28</td>\n",
       "      <td>...</td>\n",
       "      <td>0</td>\n",
       "      <td>0</td>\n",
       "      <td>0</td>\n",
       "      <td>1</td>\n",
       "      <td>0</td>\n",
       "      <td>0</td>\n",
       "      <td>0</td>\n",
       "      <td>0</td>\n",
       "      <td>0</td>\n",
       "      <td>0</td>\n",
       "    </tr>\n",
       "    <tr>\n",
       "      <th>5778</th>\n",
       "      <td>0</td>\n",
       "      <td>4050</td>\n",
       "      <td>3</td>\n",
       "      <td>9</td>\n",
       "      <td>0</td>\n",
       "      <td>19</td>\n",
       "      <td>40</td>\n",
       "      <td>21</td>\n",
       "      <td>10</td>\n",
       "      <td>1</td>\n",
       "      <td>...</td>\n",
       "      <td>0</td>\n",
       "      <td>0</td>\n",
       "      <td>0</td>\n",
       "      <td>0</td>\n",
       "      <td>1</td>\n",
       "      <td>0</td>\n",
       "      <td>0</td>\n",
       "      <td>1</td>\n",
       "      <td>0</td>\n",
       "      <td>0</td>\n",
       "    </tr>\n",
       "    <tr>\n",
       "      <th>1254</th>\n",
       "      <td>2</td>\n",
       "      <td>10697</td>\n",
       "      <td>18</td>\n",
       "      <td>5</td>\n",
       "      <td>1</td>\n",
       "      <td>8</td>\n",
       "      <td>20</td>\n",
       "      <td>21</td>\n",
       "      <td>50</td>\n",
       "      <td>13</td>\n",
       "      <td>...</td>\n",
       "      <td>0</td>\n",
       "      <td>0</td>\n",
       "      <td>0</td>\n",
       "      <td>1</td>\n",
       "      <td>0</td>\n",
       "      <td>0</td>\n",
       "      <td>0</td>\n",
       "      <td>0</td>\n",
       "      <td>0</td>\n",
       "      <td>0</td>\n",
       "    </tr>\n",
       "    <tr>\n",
       "      <th>5314</th>\n",
       "      <td>1</td>\n",
       "      <td>12681</td>\n",
       "      <td>4</td>\n",
       "      <td>1</td>\n",
       "      <td>0</td>\n",
       "      <td>18</td>\n",
       "      <td>55</td>\n",
       "      <td>8</td>\n",
       "      <td>15</td>\n",
       "      <td>13</td>\n",
       "      <td>...</td>\n",
       "      <td>0</td>\n",
       "      <td>0</td>\n",
       "      <td>0</td>\n",
       "      <td>1</td>\n",
       "      <td>0</td>\n",
       "      <td>0</td>\n",
       "      <td>0</td>\n",
       "      <td>0</td>\n",
       "      <td>0</td>\n",
       "      <td>0</td>\n",
       "    </tr>\n",
       "    <tr>\n",
       "      <th>3608</th>\n",
       "      <td>1</td>\n",
       "      <td>17261</td>\n",
       "      <td>3</td>\n",
       "      <td>6</td>\n",
       "      <td>0</td>\n",
       "      <td>21</td>\n",
       "      <td>25</td>\n",
       "      <td>11</td>\n",
       "      <td>25</td>\n",
       "      <td>14</td>\n",
       "      <td>...</td>\n",
       "      <td>0</td>\n",
       "      <td>0</td>\n",
       "      <td>0</td>\n",
       "      <td>0</td>\n",
       "      <td>0</td>\n",
       "      <td>0</td>\n",
       "      <td>0</td>\n",
       "      <td>0</td>\n",
       "      <td>0</td>\n",
       "      <td>1</td>\n",
       "    </tr>\n",
       "  </tbody>\n",
       "</table>\n",
       "<p>5 rows × 31 columns</p>\n",
       "</div>"
      ],
      "text/plain": [
       "      Total_Stops  Price  journey_day  journey_month  date_is_weekend  \\\n",
       "5458            1  11467           21              5                0   \n",
       "5778            0   4050            3              9                0   \n",
       "1254            2  10697           18              5                1   \n",
       "5314            1  12681            4              1                0   \n",
       "3608            1  17261            3              6                0   \n",
       "\n",
       "      Dep_Hour  Dep_Min  Arrival_Hour  Arrival_Min  Duration_Hour  ...  \\\n",
       "5458         9       35            14           25             28  ...   \n",
       "5778        19       40            21           10              1  ...   \n",
       "1254         8       20            21           50             13  ...   \n",
       "5314        18       55             8           15             13  ...   \n",
       "3608        21       25            11           25             14  ...   \n",
       "\n",
       "     Airline_Vistara Premium economy  Source_Chennai  Source_Delhi  \\\n",
       "5458                               0               0             0   \n",
       "5778                               0               0             0   \n",
       "1254                               0               0             0   \n",
       "5314                               0               0             0   \n",
       "3608                               0               0             0   \n",
       "\n",
       "      Source_Kolkata  Source_Mumbai  Destination_Cochin  Destination_Delhi  \\\n",
       "5458               1              0                   0                  0   \n",
       "5778               0              1                   0                  0   \n",
       "1254               1              0                   0                  0   \n",
       "5314               1              0                   0                  0   \n",
       "3608               0              0                   0                  0   \n",
       "\n",
       "      Destination_Hyderabad  Destination_Kolkata  Destination_New Delhi  \n",
       "5458                      0                    0                      0  \n",
       "5778                      1                    0                      0  \n",
       "1254                      0                    0                      0  \n",
       "5314                      0                    0                      0  \n",
       "3608                      0                    0                      1  \n",
       "\n",
       "[5 rows x 31 columns]"
      ]
     },
     "execution_count": 42,
     "metadata": {},
     "output_type": "execute_result"
    }
   ],
   "source": [
    "final_df.sample(5)"
   ]
  },
  {
   "cell_type": "code",
   "execution_count": 43,
   "id": "5c275518",
   "metadata": {
    "colab": {
     "base_uri": "https://localhost:8080/"
    },
    "executionInfo": {
     "elapsed": 48,
     "status": "ok",
     "timestamp": 1644321390327,
     "user": {
      "displayName": "Hitesh_Suthar_ 101_34",
      "photoUrl": "https://lh3.googleusercontent.com/a/default-user=s64",
      "userId": "01229137545188679455"
     },
     "user_tz": -330
    },
    "id": "5c275518",
    "outputId": "f1dea85d-85ab-4b04-d166-64a54fa06887"
   },
   "outputs": [
    {
     "data": {
      "text/plain": [
       "(7884, 31)"
      ]
     },
     "execution_count": 43,
     "metadata": {},
     "output_type": "execute_result"
    }
   ],
   "source": [
    "# Shape of Our Final Dataset\n",
    "final_df.shape"
   ]
  },
  {
   "cell_type": "code",
   "execution_count": 44,
   "id": "7b1318f0",
   "metadata": {
    "colab": {
     "base_uri": "https://localhost:8080/"
    },
    "executionInfo": {
     "elapsed": 38,
     "status": "ok",
     "timestamp": 1644321390329,
     "user": {
      "displayName": "Hitesh_Suthar_ 101_34",
      "photoUrl": "https://lh3.googleusercontent.com/a/default-user=s64",
      "userId": "01229137545188679455"
     },
     "user_tz": -330
    },
    "id": "7b1318f0",
    "outputId": "4fc3ccb2-38b0-46a7-cfff-7f46add85be6"
   },
   "outputs": [
    {
     "data": {
      "text/plain": [
       "Price                                        1.000000\n",
       "Total_Stops                                  0.687085\n",
       "Duration_Hour                                0.627066\n",
       "Airline_Jet Airways                          0.531268\n",
       "Destination_Cochin                           0.352125\n",
       "Source_Delhi                                 0.352125\n",
       "Airline_Jet Airways Business                 0.268282\n",
       "Destination_New Delhi                        0.202865\n",
       "Airline_Multiple carriers                    0.175970\n",
       "Airline_Air India                            0.096099\n",
       "journey_month                                0.073696\n",
       "Arrival_Hour                                 0.054170\n",
       "Airline_Multiple carriers Premium economy    0.020228\n",
       "Dep_Hour                                     0.014681\n",
       "Source_Kolkata                               0.009341\n",
       "Airline_Vistara Premium economy              0.002935\n",
       "date_is_weekend                             -0.009684\n",
       "Airline_Trujet                              -0.012297\n",
       "Airline_Vistara                             -0.062705\n",
       "Dep_Min                                     -0.069517\n",
       "journey_day                                 -0.110703\n",
       "Airline_GoAir                               -0.112609\n",
       "Arrival_Min                                 -0.150988\n",
       "Source_Chennai                              -0.229894\n",
       "Destination_Kolkata                         -0.229894\n",
       "Destination_Delhi                           -0.317735\n",
       "Source_Mumbai                               -0.325675\n",
       "Destination_Hyderabad                       -0.325675\n",
       "Airline_SpiceJet                            -0.361101\n",
       "Airline_IndiGo                              -0.434380\n",
       "Name: Price, dtype: float64"
      ]
     },
     "execution_count": 44,
     "metadata": {},
     "output_type": "execute_result"
    }
   ],
   "source": [
    "final_df.corr()['Price'].sort_values(ascending=False)"
   ]
  },
  {
   "cell_type": "code",
   "execution_count": 45,
   "id": "00ea432c",
   "metadata": {
    "colab": {
     "base_uri": "https://localhost:8080/",
     "height": 409
    },
    "executionInfo": {
     "elapsed": 800,
     "status": "ok",
     "timestamp": 1644321391105,
     "user": {
      "displayName": "Hitesh_Suthar_ 101_34",
      "photoUrl": "https://lh3.googleusercontent.com/a/default-user=s64",
      "userId": "01229137545188679455"
     },
     "user_tz": -330
    },
    "id": "00ea432c",
    "outputId": "0f0a1a6f-4e8c-42fe-f971-a70dff8984f0"
   },
   "outputs": [
    {
     "data": {
      "image/png": "[encoded data removed]",
      "text/plain": [
       "<Figure size 432x288 with 1 Axes>"
      ]
     },
     "metadata": {
      "needs_background": "light"
     },
     "output_type": "display_data"
    }
   ],
   "source": [
    "from sklearn.tree import ExtraTreeRegressor\n",
    "\n",
    "etr = ExtraTreeRegressor(splitter='best')\n",
    "\n",
    "fp = etr.fit(final_df.drop('Price',axis=1),final_df['Price'])\n",
    "\n",
    "col = pd.DataFrame(final_df.drop('Price',axis=1).columns)\n",
    "col['imp'] = fp.feature_importances_\n",
    "col.sort_values('imp',ascending=False)[:10]\n",
    "\n",
    "sns.barplot(x=col.sort_values('imp',ascending=False)[:10][0],y=col.sort_values('imp',ascending=False)[:10]['imp'],data=col)\n",
    "plt.xticks(rotation='vertical')\n",
    "plt.show()"
   ]
  },
  {
   "cell_type": "markdown",
   "id": "ac17fcc2",
   "metadata": {
    "id": "ac17fcc2"
   },
   "source": [
    "# Building Model"
   ]
  },
  {
   "cell_type": "code",
   "execution_count": 46,
   "id": "5284daf4",
   "metadata": {
    "executionInfo": {
     "elapsed": 32,
     "status": "ok",
     "timestamp": 1644321391106,
     "user": {
      "displayName": "Hitesh_Suthar_ 101_34",
      "photoUrl": "https://lh3.googleusercontent.com/a/default-user=s64",
      "userId": "01229137545188679455"
     },
     "user_tz": -330
    },
    "id": "5284daf4"
   },
   "outputs": [],
   "source": [
    "# import all the model and other required libraries\n",
    "from sklearn.model_selection import train_test_split,ShuffleSplit,cross_val_score,GridSearchCV\n",
    "from sklearn.ensemble import RandomForestRegressor\n",
    "from sklearn.tree import DecisionTreeRegressor\n",
    "from sklearn.linear_model import LinearRegression\n",
    "from sklearn.svm import SVR\n",
    "from sklearn.neighbors import KNeighborsRegressor"
   ]
  },
  {
   "cell_type": "code",
   "execution_count": 47,
   "id": "c02d7161",
   "metadata": {
    "executionInfo": {
     "elapsed": 34,
     "status": "ok",
     "timestamp": 1644321391110,
     "user": {
      "displayName": "Hitesh_Suthar_ 101_34",
      "photoUrl": "https://lh3.googleusercontent.com/a/default-user=s64",
      "userId": "01229137545188679455"
     },
     "user_tz": -330
    },
    "id": "c02d7161"
   },
   "outputs": [],
   "source": [
    "# Extracting Our Independent and Dependent Variables\n",
    "X = final_df.drop('Price',axis=1)\n",
    "y = final_df['Price']"
   ]
  },
  {
   "cell_type": "code",
   "execution_count": 48,
   "id": "b96f0215",
   "metadata": {
    "executionInfo": {
     "elapsed": 35,
     "status": "ok",
     "timestamp": 1644321391112,
     "user": {
      "displayName": "Hitesh_Suthar_ 101_34",
      "photoUrl": "https://lh3.googleusercontent.com/a/default-user=s64",
      "userId": "01229137545188679455"
     },
     "user_tz": -330
    },
    "id": "b96f0215"
   },
   "outputs": [],
   "source": [
    "# Train Test Split\n",
    "X_train,X_test,y_train,y_test = train_test_split(X,y,test_size=0.2,random_state=42)"
   ]
  },
  {
   "cell_type": "code",
   "execution_count": 49,
   "id": "c1f98f35",
   "metadata": {
    "colab": {
     "base_uri": "https://localhost:8080/"
    },
    "executionInfo": {
     "elapsed": 35,
     "status": "ok",
     "timestamp": 1644321391114,
     "user": {
      "displayName": "Hitesh_Suthar_ 101_34",
      "photoUrl": "https://lh3.googleusercontent.com/a/default-user=s64",
      "userId": "01229137545188679455"
     },
     "user_tz": -330
    },
    "id": "c1f98f35",
    "outputId": "1d88c570-0fed-40a8-ba06-0dd86e38805d"
   },
   "outputs": [
    {
     "data": {
      "text/plain": [
       "(6307, 30)"
      ]
     },
     "execution_count": 49,
     "metadata": {},
     "output_type": "execute_result"
    }
   ],
   "source": [
    "X_train.shape"
   ]
  },
  {
   "cell_type": "code",
   "execution_count": 50,
   "id": "2e6a1902",
   "metadata": {
    "executionInfo": {
     "elapsed": 517,
     "status": "ok",
     "timestamp": 1644326768803,
     "user": {
      "displayName": "Hitesh_Suthar_ 101_34",
      "photoUrl": "https://lh3.googleusercontent.com/a/default-user=s64",
      "userId": "01229137545188679455"
     },
     "user_tz": -330
    },
    "id": "2e6a1902"
   },
   "outputs": [],
   "source": [
    "# Searching Best Model Using GridSeacrhCV\n",
    "\n",
    "def find_best_model(X,y):\n",
    "    algos = {\n",
    "        'linear_regression':{\n",
    "            'model':LinearRegression(),\n",
    "            'params':{\n",
    "            }\n",
    "        },\n",
    "        'random_forest':{\n",
    "            'model':RandomForestRegressor(),\n",
    "            'params':{\n",
    "                'n_estimators':range(100,400,100),\n",
    "                'max_depth':[10,20,30,40,50],\n",
    "                # 'min_samples_split':range(2,10,2),\n",
    "                # 'min_samples_leaf':range(1,10,2)\n",
    "            }\n",
    "        },\n",
    "        'decision_tree':{\n",
    "            'model':DecisionTreeRegressor(),\n",
    "            'params':{\n",
    "                'splitter':['best','random'],\n",
    "                'max_depth':[10,20,30],\n",
    "                'min_samples_split':range(2,20,2),\n",
    "                'min_samples_leaf':range(1,10,2)\n",
    "             }\n",
    "        },\n",
    "        'Knearest_neighbour':{\n",
    "            'model':KNeighborsRegressor(),\n",
    "            'params':{\n",
    "                'n_neighbors':[1,3,5,7]\n",
    "             }\n",
    "        },\n",
    "        'SVR':{\n",
    "            'model':SVR(),\n",
    "            'params':{\n",
    "                'C':[0.1,0.5,1,1.5,2]\n",
    "             }\n",
    "        },\n",
    "        \n",
    "        \n",
    "\n",
    "    }\n",
    "    \n",
    "    scores = []\n",
    "    \n",
    "    cv = ShuffleSplit(n_splits=5,random_state=0,test_size=0.2)\n",
    "    \n",
    "    for model_name,config in algos.items():\n",
    "        gs = GridSearchCV(config['model'],config['params'],cv=cv,return_train_score=False)\n",
    "        gs.fit(X,y)\n",
    "        scores.append({\n",
    "            'Model Name':model_name,\n",
    "            'Best Score':gs.best_score_,\n",
    "            'Best Params':gs.best_params_\n",
    "        })\n",
    "        \n",
    "    return pd.DataFrame(scores)"
   ]
  },
  {
   "cell_type": "code",
   "execution_count": 51,
   "id": "927fa2fe",
   "metadata": {
    "colab": {
     "base_uri": "https://localhost:8080/",
     "height": 215
    },
    "executionInfo": {
     "elapsed": 457517,
     "status": "ok",
     "timestamp": 1644327228869,
     "user": {
      "displayName": "Hitesh_Suthar_ 101_34",
      "photoUrl": "https://lh3.googleusercontent.com/a/default-user=s64",
      "userId": "01229137545188679455"
     },
     "user_tz": -330
    },
    "id": "927fa2fe",
    "outputId": "e5bc9296-7285-4a30-b793-dece8731c46c"
   },
   "outputs": [
    {
     "data": {
      "text/html": [
       "<div>\n",
       "<style scoped>\n",
       "    .dataframe tbody tr th:only-of-type {\n",
       "        vertical-align: middle;\n",
       "    }\n",
       "\n",
       "    .dataframe tbody tr th {\n",
       "        vertical-align: top;\n",
       "    }\n",
       "\n",
       "    .dataframe thead th {\n",
       "        text-align: right;\n",
       "    }\n",
       "</style>\n",
       "<table border=\"1\" class=\"dataframe\">\n",
       "  <thead>\n",
       "    <tr style=\"text-align: right;\">\n",
       "      <th></th>\n",
       "      <th>Model Name</th>\n",
       "      <th>Best Score</th>\n",
       "      <th>Best Params</th>\n",
       "    </tr>\n",
       "  </thead>\n",
       "  <tbody>\n",
       "    <tr>\n",
       "      <th>0</th>\n",
       "      <td>linear_regression</td>\n",
       "      <td>0.812154</td>\n",
       "      <td>{}</td>\n",
       "    </tr>\n",
       "    <tr>\n",
       "      <th>1</th>\n",
       "      <td>random_forest</td>\n",
       "      <td>0.855623</td>\n",
       "      <td>{'max_depth': 10, 'n_estimators': 200}</td>\n",
       "    </tr>\n",
       "    <tr>\n",
       "      <th>2</th>\n",
       "      <td>decision_tree</td>\n",
       "      <td>0.884430</td>\n",
       "      <td>{'max_depth': 20, 'min_samples_leaf': 1, 'min_...</td>\n",
       "    </tr>\n",
       "    <tr>\n",
       "      <th>3</th>\n",
       "      <td>Knearest_neighbour</td>\n",
       "      <td>0.702524</td>\n",
       "      <td>{'n_neighbors': 3}</td>\n",
       "    </tr>\n",
       "    <tr>\n",
       "      <th>4</th>\n",
       "      <td>SVR</td>\n",
       "      <td>0.059914</td>\n",
       "      <td>{'C': 2}</td>\n",
       "    </tr>\n",
       "  </tbody>\n",
       "</table>\n",
       "</div>"
      ],
      "text/plain": [
       "           Model Name  Best Score  \\\n",
       "0   linear_regression    0.812154   \n",
       "1       random_forest    0.855623   \n",
       "2       decision_tree    0.884430   \n",
       "3  Knearest_neighbour    0.702524   \n",
       "4                 SVR    0.059914   \n",
       "\n",
       "                                         Best Params  \n",
       "0                                                 {}  \n",
       "1             {'max_depth': 10, 'n_estimators': 200}  \n",
       "2  {'max_depth': 20, 'min_samples_leaf': 1, 'min_...  \n",
       "3                                 {'n_neighbors': 3}  \n",
       "4                                           {'C': 2}  "
      ]
     },
     "execution_count": 51,
     "metadata": {},
     "output_type": "execute_result"
    }
   ],
   "source": [
    "# Find best scores for all Models\n",
    "find_best_model(X,y)"
   ]
  },
  {
   "cell_type": "markdown",
   "id": "4f-y5rK-i357",
   "metadata": {
    "id": "4f-y5rK-i357"
   },
   "source": [
    "We can Clearly see Decision Tree is giving us Best Performance. So, we will use DecisionTree for Our Prediction. "
   ]
  },
  {
   "cell_type": "code",
   "execution_count": 52,
   "id": "5b0d9057",
   "metadata": {
    "colab": {
     "base_uri": "https://localhost:8080/"
    },
    "executionInfo": {
     "elapsed": 528,
     "status": "ok",
     "timestamp": 1644327849707,
     "user": {
      "displayName": "Hitesh_Suthar_ 101_34",
      "photoUrl": "https://lh3.googleusercontent.com/a/default-user=s64",
      "userId": "01229137545188679455"
     },
     "user_tz": -330
    },
    "id": "5b0d9057",
    "outputId": "ecedc9dc-0fee-42c1-f654-a0a060cce6da"
   },
   "outputs": [
    {
     "name": "stdout",
     "output_type": "stream",
     "text": [
      "0.8914667794599266\n",
      "0.8914667794599266\n"
     ]
    }
   ],
   "source": [
    "# Build Model\n",
    "model = DecisionTreeRegressor(max_depth=30,min_samples_leaf=1,min_samples_split=18,splitter='random') \n",
    "\n",
    "# Model Training\n",
    "model.fit(X_train,y_train)\n",
    "\n",
    "print(model.score(X_test,y_test))\n",
    "print(model.score(X_test,y_test))"
   ]
  },
  {
   "cell_type": "code",
   "execution_count": 53,
   "id": "a51WVvqIkeq9",
   "metadata": {
    "executionInfo": {
     "elapsed": 475,
     "status": "ok",
     "timestamp": 1644327884055,
     "user": {
      "displayName": "Hitesh_Suthar_ 101_34",
      "photoUrl": "https://lh3.googleusercontent.com/a/default-user=s64",
      "userId": "01229137545188679455"
     },
     "user_tz": -330
    },
    "id": "a51WVvqIkeq9"
   },
   "outputs": [],
   "source": [
    "# Prediction on Train Data\n",
    "y_train_pred = model.predict(X_train)\n",
    "\n",
    "# Prediction on Test Data\n",
    "y_test_pred = model.predict(X_test)"
   ]
  },
  {
   "cell_type": "markdown",
   "id": "KPRkFOvdlQnt",
   "metadata": {
    "id": "KPRkFOvdlQnt"
   },
   "source": [
    "# **Model Evaluation**"
   ]
  },
  {
   "cell_type": "code",
   "execution_count": 54,
   "id": "0aIslsL4lJCF",
   "metadata": {
    "executionInfo": {
     "elapsed": 653,
     "status": "ok",
     "timestamp": 1644328510537,
     "user": {
      "displayName": "Hitesh_Suthar_ 101_34",
      "photoUrl": "https://lh3.googleusercontent.com/a/default-user=s64",
      "userId": "01229137545188679455"
     },
     "user_tz": -330
    },
    "id": "0aIslsL4lJCF"
   },
   "outputs": [],
   "source": [
    "# import Libraries\n",
    "from sklearn.metrics import r2_score,mean_squared_error,mean_absolute_error\n",
    "\n",
    "# function for model evaluation\n",
    "def model_evaluation(y_actual,y_pred):\n",
    "  r2 = r2_score(y_actual,y_pred)\n",
    "  mae = mean_absolute_error(y_actual,y_pred)\n",
    "  mse = mean_squared_error(y_actual,y_pred)\n",
    "  rmse = np.sqrt(mean_squared_error(y_actual,y_pred))\n",
    "  return pd.Series({'r2_score':r2,'mse':mse,'mae':mae,'rmse':rmse})"
   ]
  },
  {
   "cell_type": "code",
   "execution_count": 55,
   "id": "3iE_NlLEmvGH",
   "metadata": {
    "colab": {
     "base_uri": "https://localhost:8080/"
    },
    "executionInfo": {
     "elapsed": 533,
     "status": "ok",
     "timestamp": 1644328681486,
     "user": {
      "displayName": "Hitesh_Suthar_ 101_34",
      "photoUrl": "https://lh3.googleusercontent.com/a/default-user=s64",
      "userId": "01229137545188679455"
     },
     "user_tz": -330
    },
    "id": "3iE_NlLEmvGH",
    "outputId": "7733d3bb-71ce-4602-f677-16b174d9e86a"
   },
   "outputs": [],
   "source": [
    "# Scores on Train Data\n",
    "train_score = model_evaluation(y_train,y_train_pred)\n",
    "\n",
    "# Scores on Test Data\n",
    "test_score = model_evaluation(y_test,y_test_pred)"
   ]
  },
  {
   "cell_type": "code",
   "execution_count": 56,
   "id": "Uadl84g1oLZ8",
   "metadata": {
    "colab": {
     "base_uri": "https://localhost:8080/",
     "height": 175
    },
    "executionInfo": {
     "elapsed": 563,
     "status": "ok",
     "timestamp": 1644328792573,
     "user": {
      "displayName": "Hitesh_Suthar_ 101_34",
      "photoUrl": "https://lh3.googleusercontent.com/a/default-user=s64",
      "userId": "01229137545188679455"
     },
     "user_tz": -330
    },
    "id": "Uadl84g1oLZ8",
    "outputId": "9eda2bdf-7cda-443a-9590-9b35780de6e9"
   },
   "outputs": [
    {
     "data": {
      "text/html": [
       "<div>\n",
       "<style scoped>\n",
       "    .dataframe tbody tr th:only-of-type {\n",
       "        vertical-align: middle;\n",
       "    }\n",
       "\n",
       "    .dataframe tbody tr th {\n",
       "        vertical-align: top;\n",
       "    }\n",
       "\n",
       "    .dataframe thead th {\n",
       "        text-align: right;\n",
       "    }\n",
       "</style>\n",
       "<table border=\"1\" class=\"dataframe\">\n",
       "  <thead>\n",
       "    <tr style=\"text-align: right;\">\n",
       "      <th></th>\n",
       "      <th>Train Data</th>\n",
       "      <th>Test Data</th>\n",
       "    </tr>\n",
       "  </thead>\n",
       "  <tbody>\n",
       "    <tr>\n",
       "      <th>r2_score</th>\n",
       "      <td>9.325076e-01</td>\n",
       "      <td>8.914668e-01</td>\n",
       "    </tr>\n",
       "    <tr>\n",
       "      <th>mse</th>\n",
       "      <td>1.038243e+06</td>\n",
       "      <td>1.498618e+06</td>\n",
       "    </tr>\n",
       "    <tr>\n",
       "      <th>mae</th>\n",
       "      <td>6.563986e+02</td>\n",
       "      <td>7.874255e+02</td>\n",
       "    </tr>\n",
       "    <tr>\n",
       "      <th>rmse</th>\n",
       "      <td>1.018942e+03</td>\n",
       "      <td>1.224180e+03</td>\n",
       "    </tr>\n",
       "  </tbody>\n",
       "</table>\n",
       "</div>"
      ],
      "text/plain": [
       "            Train Data     Test Data\n",
       "r2_score  9.325076e-01  8.914668e-01\n",
       "mse       1.038243e+06  1.498618e+06\n",
       "mae       6.563986e+02  7.874255e+02\n",
       "rmse      1.018942e+03  1.224180e+03"
      ]
     },
     "execution_count": 56,
     "metadata": {},
     "output_type": "execute_result"
    }
   ],
   "source": [
    "# Making Scorecard of Train and Test Data\n",
    "scorecard = pd.concat([train_score,test_score],axis=1)\n",
    "scorecard.columns = ['Train Data','Test Data']\n",
    "scorecard"
   ]
  },
  {
   "cell_type": "markdown",
   "id": "M4VImWL2o4cd",
   "metadata": {
    "id": "M4VImWL2o4cd"
   },
   "source": [
    "Let's do Cross Score Validation on Our Entire DataSet"
   ]
  },
  {
   "cell_type": "code",
   "execution_count": 57,
   "id": "99a59b4e",
   "metadata": {
    "colab": {
     "base_uri": "https://localhost:8080/"
    },
    "executionInfo": {
     "elapsed": 480,
     "status": "ok",
     "timestamp": 1644329051246,
     "user": {
      "displayName": "Hitesh_Suthar_ 101_34",
      "photoUrl": "https://lh3.googleusercontent.com/a/default-user=s64",
      "userId": "01229137545188679455"
     },
     "user_tz": -330
    },
    "id": "99a59b4e",
    "outputId": "fe8f2b91-c627-4e3f-ec30-eb432d7c315e"
   },
   "outputs": [
    {
     "data": {
      "text/plain": [
       "0.8541953973268825"
      ]
     },
     "execution_count": 57,
     "metadata": {},
     "output_type": "execute_result"
    }
   ],
   "source": [
    "# Crossvalidation of Entire Dataset\n",
    "\n",
    "# Making 10 Folds of Our Data and Taking Test Size of 20%\n",
    "cv = ShuffleSplit(n_splits=10,test_size=0.2,random_state=42)\n",
    "\n",
    "# Applying Cross Validation\n",
    "cross_val_score(model,X,y,scoring='r2',cv=cv).mean()"
   ]
  }
 ],
 "metadata": {
  "colab": {
   "collapsed_sections": [
    "9AiUUaPsUYFr",
    "EfK0sj7RV1i3",
    "LXybvzjMV9Lj",
    "x-25ZRbBWJRf",
    "6f721249",
    "ac17fcc2",
    "KPRkFOvdlQnt"
   ],
   "name": "Flight Fare Price Prediction.ipynb",
   "provenance": []
  },
  "kernelspec": {
   "display_name": "Python 3 (ipykernel)",
   "language": "python",
   "name": "python3"
  },
  "language_info": {
   "codemirror_mode": {
    "name": "ipython",
    "version": 3
   },
   "file_extension": ".py",
   "mimetype": "text/x-python",
   "name": "python",
   "nbconvert_exporter": "python",
   "pygments_lexer": "ipython3",
   "version": "3.9.12"
  }
 },
 "nbformat": 4,
 "nbformat_minor": 5
}
